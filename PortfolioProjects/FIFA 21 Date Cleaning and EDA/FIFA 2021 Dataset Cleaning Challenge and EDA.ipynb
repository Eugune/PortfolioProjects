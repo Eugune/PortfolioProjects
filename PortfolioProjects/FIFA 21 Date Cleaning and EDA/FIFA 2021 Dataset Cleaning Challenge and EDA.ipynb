{
 "cells": [
  {
   "cell_type": "code",
   "execution_count": 1,
   "id": "dc2a84c2",
   "metadata": {},
   "outputs": [],
   "source": [
    "import pandas as pd\n",
    "import numpy as np\n",
    "import matplotlib.pyplot as plt\n",
    "import seaborn as sns\n",
    "\n",
    "%matplotlib inline"
   ]
  },
  {
   "cell_type": "markdown",
   "id": "48897fad",
   "metadata": {},
   "source": [
    "Data Cleaning Tasks:\n",
    "\n",
    " 1. Do the height and weight columns have the appropriate data dytes.  \n",
    " 2. Can you separate the joined column into year, month, and day columns?  \n",
    " 3. Clean and transform the value, wage and releae clause columns into columns for integers?  \n",
    " 4. How can you Remove the unnecessary newline characters from all columns that have them. \n",
    " 5. Some columns have 'star' characters. Strip those columns of these stars and make the columns numerical\n",
    " 6. Based on the 'Joined' column, check which players have been playing at a club for more than 10 years! \n",
    "\n",
    "\n",
    "\n",
    "How to build a strong team that is not inferior to the top-ranked teams, and even a potentially powerful contender for the championship?  (Wage salary expense should be less than 1/3 of the top 3 Club).  \n",
    "\n",
    "1. Which players are highly valuable but still underpaid (on low wages)?  \n",
    "2. At what age do players tend to be highly valuable but still underpaid?\n",
    "3. What is the wage budget that can turn a club into a potential contender even for a championship?  \n",
    "4. For those competitive young team in 2.3, what position they focus on?  \n",
    "5. Which countries should club managers look to for potential talent to develop?  \n",
    "\n",
    "\n",
    "\n"
   ]
  },
  {
   "cell_type": "code",
   "execution_count": 2,
   "id": "277e496f",
   "metadata": {
    "scrolled": true
   },
   "outputs": [
    {
     "name": "stderr",
     "output_type": "stream",
     "text": [
      "C:\\Users\\fadea\\AppData\\Local\\Temp\\ipykernel_7764\\136846397.py:1: DtypeWarning: Columns (76) have mixed types. Specify dtype option on import or set low_memory=False.\n",
      "  df = pd.read_csv(\"fifa21 raw data v2.csv\", sep = ',')\n"
     ]
    }
   ],
   "source": [
    "df = pd.read_csv(\"fifa21 raw data v2.csv\", sep = ',')"
   ]
  },
  {
   "cell_type": "code",
   "execution_count": 3,
   "id": "8c40fdfa",
   "metadata": {
    "scrolled": true
   },
   "outputs": [
    {
     "name": "stdout",
     "output_type": "stream",
     "text": [
      "<class 'pandas.core.frame.DataFrame'>\n",
      "RangeIndex: 18979 entries, 0 to 18978\n",
      "Data columns (total 77 columns):\n",
      " #   Column            Non-Null Count  Dtype \n",
      "---  ------            --------------  ----- \n",
      " 0   ID                18979 non-null  int64 \n",
      " 1   Name              18979 non-null  object\n",
      " 2   LongName          18979 non-null  object\n",
      " 3   photoUrl          18979 non-null  object\n",
      " 4   playerUrl         18979 non-null  object\n",
      " 5   Nationality       18979 non-null  object\n",
      " 6   Age               18979 non-null  int64 \n",
      " 7   ↓OVA              18979 non-null  int64 \n",
      " 8   POT               18979 non-null  int64 \n",
      " 9   Club              18979 non-null  object\n",
      " 10  Contract          18979 non-null  object\n",
      " 11  Positions         18979 non-null  object\n",
      " 12  Height            18979 non-null  object\n",
      " 13  Weight            18979 non-null  object\n",
      " 14  Preferred Foot    18979 non-null  object\n",
      " 15  BOV               18979 non-null  int64 \n",
      " 16  Best Position     18979 non-null  object\n",
      " 17  Joined            18979 non-null  object\n",
      " 18  Loan Date End     1013 non-null   object\n",
      " 19  Value             18979 non-null  object\n",
      " 20  Wage              18979 non-null  object\n",
      " 21  Release Clause    18979 non-null  object\n",
      " 22  Attacking         18979 non-null  int64 \n",
      " 23  Crossing          18979 non-null  int64 \n",
      " 24  Finishing         18979 non-null  int64 \n",
      " 25  Heading Accuracy  18979 non-null  int64 \n",
      " 26  Short Passing     18979 non-null  int64 \n",
      " 27  Volleys           18979 non-null  int64 \n",
      " 28  Skill             18979 non-null  int64 \n",
      " 29  Dribbling         18979 non-null  int64 \n",
      " 30  Curve             18979 non-null  int64 \n",
      " 31  FK Accuracy       18979 non-null  int64 \n",
      " 32  Long Passing      18979 non-null  int64 \n",
      " 33  Ball Control      18979 non-null  int64 \n",
      " 34  Movement          18979 non-null  int64 \n",
      " 35  Acceleration      18979 non-null  int64 \n",
      " 36  Sprint Speed      18979 non-null  int64 \n",
      " 37  Agility           18979 non-null  int64 \n",
      " 38  Reactions         18979 non-null  int64 \n",
      " 39  Balance           18979 non-null  int64 \n",
      " 40  Power             18979 non-null  int64 \n",
      " 41  Shot Power        18979 non-null  int64 \n",
      " 42  Jumping           18979 non-null  int64 \n",
      " 43  Stamina           18979 non-null  int64 \n",
      " 44  Strength          18979 non-null  int64 \n",
      " 45  Long Shots        18979 non-null  int64 \n",
      " 46  Mentality         18979 non-null  int64 \n",
      " 47  Aggression        18979 non-null  int64 \n",
      " 48  Interceptions     18979 non-null  int64 \n",
      " 49  Positioning       18979 non-null  int64 \n",
      " 50  Vision            18979 non-null  int64 \n",
      " 51  Penalties         18979 non-null  int64 \n",
      " 52  Composure         18979 non-null  int64 \n",
      " 53  Defending         18979 non-null  int64 \n",
      " 54  Marking           18979 non-null  int64 \n",
      " 55  Standing Tackle   18979 non-null  int64 \n",
      " 56  Sliding Tackle    18979 non-null  int64 \n",
      " 57  Goalkeeping       18979 non-null  int64 \n",
      " 58  GK Diving         18979 non-null  int64 \n",
      " 59  GK Handling       18979 non-null  int64 \n",
      " 60  GK Kicking        18979 non-null  int64 \n",
      " 61  GK Positioning    18979 non-null  int64 \n",
      " 62  GK Reflexes       18979 non-null  int64 \n",
      " 63  Total Stats       18979 non-null  int64 \n",
      " 64  Base Stats        18979 non-null  int64 \n",
      " 65  W/F               18979 non-null  object\n",
      " 66  SM                18979 non-null  object\n",
      " 67  A/W               18979 non-null  object\n",
      " 68  D/W               18979 non-null  object\n",
      " 69  IR                18979 non-null  object\n",
      " 70  PAC               18979 non-null  int64 \n",
      " 71  SHO               18979 non-null  int64 \n",
      " 72  PAS               18979 non-null  int64 \n",
      " 73  DRI               18979 non-null  int64 \n",
      " 74  DEF               18979 non-null  int64 \n",
      " 75  PHY               18979 non-null  int64 \n",
      " 76  Hits              16384 non-null  object\n",
      "dtypes: int64(54), object(23)\n",
      "memory usage: 11.1+ MB\n"
     ]
    }
   ],
   "source": [
    "df.info()"
   ]
  },
  {
   "cell_type": "code",
   "execution_count": 4,
   "id": "e64af530",
   "metadata": {},
   "outputs": [],
   "source": [
    "pd.set_option(\"display.max_columns\",100)"
   ]
  },
  {
   "cell_type": "code",
   "execution_count": 5,
   "id": "3758c862",
   "metadata": {
    "scrolled": false
   },
   "outputs": [
    {
     "data": {
      "text/html": [
       "<div>\n",
       "<style scoped>\n",
       "    .dataframe tbody tr th:only-of-type {\n",
       "        vertical-align: middle;\n",
       "    }\n",
       "\n",
       "    .dataframe tbody tr th {\n",
       "        vertical-align: top;\n",
       "    }\n",
       "\n",
       "    .dataframe thead th {\n",
       "        text-align: right;\n",
       "    }\n",
       "</style>\n",
       "<table border=\"1\" class=\"dataframe\">\n",
       "  <thead>\n",
       "    <tr style=\"text-align: right;\">\n",
       "      <th></th>\n",
       "      <th>ID</th>\n",
       "      <th>Name</th>\n",
       "      <th>LongName</th>\n",
       "      <th>photoUrl</th>\n",
       "      <th>playerUrl</th>\n",
       "      <th>Nationality</th>\n",
       "      <th>Age</th>\n",
       "      <th>↓OVA</th>\n",
       "      <th>POT</th>\n",
       "      <th>Club</th>\n",
       "      <th>Contract</th>\n",
       "      <th>Positions</th>\n",
       "      <th>Height</th>\n",
       "      <th>Weight</th>\n",
       "      <th>Preferred Foot</th>\n",
       "      <th>BOV</th>\n",
       "      <th>Best Position</th>\n",
       "      <th>Joined</th>\n",
       "      <th>Loan Date End</th>\n",
       "      <th>Value</th>\n",
       "      <th>Wage</th>\n",
       "      <th>Release Clause</th>\n",
       "      <th>Attacking</th>\n",
       "      <th>Crossing</th>\n",
       "      <th>Finishing</th>\n",
       "      <th>Heading Accuracy</th>\n",
       "      <th>Short Passing</th>\n",
       "      <th>Volleys</th>\n",
       "      <th>Skill</th>\n",
       "      <th>Dribbling</th>\n",
       "      <th>Curve</th>\n",
       "      <th>FK Accuracy</th>\n",
       "      <th>Long Passing</th>\n",
       "      <th>Ball Control</th>\n",
       "      <th>Movement</th>\n",
       "      <th>Acceleration</th>\n",
       "      <th>Sprint Speed</th>\n",
       "      <th>Agility</th>\n",
       "      <th>Reactions</th>\n",
       "      <th>Balance</th>\n",
       "      <th>Power</th>\n",
       "      <th>Shot Power</th>\n",
       "      <th>Jumping</th>\n",
       "      <th>Stamina</th>\n",
       "      <th>Strength</th>\n",
       "      <th>Long Shots</th>\n",
       "      <th>Mentality</th>\n",
       "      <th>Aggression</th>\n",
       "      <th>Interceptions</th>\n",
       "      <th>Positioning</th>\n",
       "      <th>Vision</th>\n",
       "      <th>Penalties</th>\n",
       "      <th>Composure</th>\n",
       "      <th>Defending</th>\n",
       "      <th>Marking</th>\n",
       "      <th>Standing Tackle</th>\n",
       "      <th>Sliding Tackle</th>\n",
       "      <th>Goalkeeping</th>\n",
       "      <th>GK Diving</th>\n",
       "      <th>GK Handling</th>\n",
       "      <th>GK Kicking</th>\n",
       "      <th>GK Positioning</th>\n",
       "      <th>GK Reflexes</th>\n",
       "      <th>Total Stats</th>\n",
       "      <th>Base Stats</th>\n",
       "      <th>W/F</th>\n",
       "      <th>SM</th>\n",
       "      <th>A/W</th>\n",
       "      <th>D/W</th>\n",
       "      <th>IR</th>\n",
       "      <th>PAC</th>\n",
       "      <th>SHO</th>\n",
       "      <th>PAS</th>\n",
       "      <th>DRI</th>\n",
       "      <th>DEF</th>\n",
       "      <th>PHY</th>\n",
       "      <th>Hits</th>\n",
       "    </tr>\n",
       "  </thead>\n",
       "  <tbody>\n",
       "    <tr>\n",
       "      <th>0</th>\n",
       "      <td>158023</td>\n",
       "      <td>L. Messi</td>\n",
       "      <td>Lionel Messi</td>\n",
       "      <td>https://cdn.sofifa.com/players/158/023/21_60.png</td>\n",
       "      <td>http://sofifa.com/player/158023/lionel-messi/2...</td>\n",
       "      <td>Argentina</td>\n",
       "      <td>33</td>\n",
       "      <td>93</td>\n",
       "      <td>93</td>\n",
       "      <td>\\n\\n\\n\\nFC Barcelona</td>\n",
       "      <td>2004 ~ 2021</td>\n",
       "      <td>RW, ST, CF</td>\n",
       "      <td>170cm</td>\n",
       "      <td>72kg</td>\n",
       "      <td>Left</td>\n",
       "      <td>93</td>\n",
       "      <td>RW</td>\n",
       "      <td>Jul 1, 2004</td>\n",
       "      <td>NaN</td>\n",
       "      <td>€103.5M</td>\n",
       "      <td>€560K</td>\n",
       "      <td>€138.4M</td>\n",
       "      <td>429</td>\n",
       "      <td>85</td>\n",
       "      <td>95</td>\n",
       "      <td>70</td>\n",
       "      <td>91</td>\n",
       "      <td>88</td>\n",
       "      <td>470</td>\n",
       "      <td>96</td>\n",
       "      <td>93</td>\n",
       "      <td>94</td>\n",
       "      <td>91</td>\n",
       "      <td>96</td>\n",
       "      <td>451</td>\n",
       "      <td>91</td>\n",
       "      <td>80</td>\n",
       "      <td>91</td>\n",
       "      <td>94</td>\n",
       "      <td>95</td>\n",
       "      <td>389</td>\n",
       "      <td>86</td>\n",
       "      <td>68</td>\n",
       "      <td>72</td>\n",
       "      <td>69</td>\n",
       "      <td>94</td>\n",
       "      <td>347</td>\n",
       "      <td>44</td>\n",
       "      <td>40</td>\n",
       "      <td>93</td>\n",
       "      <td>95</td>\n",
       "      <td>75</td>\n",
       "      <td>96</td>\n",
       "      <td>91</td>\n",
       "      <td>32</td>\n",
       "      <td>35</td>\n",
       "      <td>24</td>\n",
       "      <td>54</td>\n",
       "      <td>6</td>\n",
       "      <td>11</td>\n",
       "      <td>15</td>\n",
       "      <td>14</td>\n",
       "      <td>8</td>\n",
       "      <td>2231</td>\n",
       "      <td>466</td>\n",
       "      <td>4 ★</td>\n",
       "      <td>4★</td>\n",
       "      <td>Medium</td>\n",
       "      <td>Low</td>\n",
       "      <td>5 ★</td>\n",
       "      <td>85</td>\n",
       "      <td>92</td>\n",
       "      <td>91</td>\n",
       "      <td>95</td>\n",
       "      <td>38</td>\n",
       "      <td>65</td>\n",
       "      <td>771</td>\n",
       "    </tr>\n",
       "    <tr>\n",
       "      <th>1</th>\n",
       "      <td>20801</td>\n",
       "      <td>Cristiano Ronaldo</td>\n",
       "      <td>C. Ronaldo dos Santos Aveiro</td>\n",
       "      <td>https://cdn.sofifa.com/players/020/801/21_60.png</td>\n",
       "      <td>http://sofifa.com/player/20801/c-ronaldo-dos-s...</td>\n",
       "      <td>Portugal</td>\n",
       "      <td>35</td>\n",
       "      <td>92</td>\n",
       "      <td>92</td>\n",
       "      <td>\\n\\n\\n\\nJuventus</td>\n",
       "      <td>2018 ~ 2022</td>\n",
       "      <td>ST, LW</td>\n",
       "      <td>187cm</td>\n",
       "      <td>83kg</td>\n",
       "      <td>Right</td>\n",
       "      <td>92</td>\n",
       "      <td>ST</td>\n",
       "      <td>Jul 10, 2018</td>\n",
       "      <td>NaN</td>\n",
       "      <td>€63M</td>\n",
       "      <td>€220K</td>\n",
       "      <td>€75.9M</td>\n",
       "      <td>437</td>\n",
       "      <td>84</td>\n",
       "      <td>95</td>\n",
       "      <td>90</td>\n",
       "      <td>82</td>\n",
       "      <td>86</td>\n",
       "      <td>414</td>\n",
       "      <td>88</td>\n",
       "      <td>81</td>\n",
       "      <td>76</td>\n",
       "      <td>77</td>\n",
       "      <td>92</td>\n",
       "      <td>431</td>\n",
       "      <td>87</td>\n",
       "      <td>91</td>\n",
       "      <td>87</td>\n",
       "      <td>95</td>\n",
       "      <td>71</td>\n",
       "      <td>444</td>\n",
       "      <td>94</td>\n",
       "      <td>95</td>\n",
       "      <td>84</td>\n",
       "      <td>78</td>\n",
       "      <td>93</td>\n",
       "      <td>353</td>\n",
       "      <td>63</td>\n",
       "      <td>29</td>\n",
       "      <td>95</td>\n",
       "      <td>82</td>\n",
       "      <td>84</td>\n",
       "      <td>95</td>\n",
       "      <td>84</td>\n",
       "      <td>28</td>\n",
       "      <td>32</td>\n",
       "      <td>24</td>\n",
       "      <td>58</td>\n",
       "      <td>7</td>\n",
       "      <td>11</td>\n",
       "      <td>15</td>\n",
       "      <td>14</td>\n",
       "      <td>11</td>\n",
       "      <td>2221</td>\n",
       "      <td>464</td>\n",
       "      <td>4 ★</td>\n",
       "      <td>5★</td>\n",
       "      <td>High</td>\n",
       "      <td>Low</td>\n",
       "      <td>5 ★</td>\n",
       "      <td>89</td>\n",
       "      <td>93</td>\n",
       "      <td>81</td>\n",
       "      <td>89</td>\n",
       "      <td>35</td>\n",
       "      <td>77</td>\n",
       "      <td>562</td>\n",
       "    </tr>\n",
       "    <tr>\n",
       "      <th>2</th>\n",
       "      <td>200389</td>\n",
       "      <td>J. Oblak</td>\n",
       "      <td>Jan Oblak</td>\n",
       "      <td>https://cdn.sofifa.com/players/200/389/21_60.png</td>\n",
       "      <td>http://sofifa.com/player/200389/jan-oblak/210006/</td>\n",
       "      <td>Slovenia</td>\n",
       "      <td>27</td>\n",
       "      <td>91</td>\n",
       "      <td>93</td>\n",
       "      <td>\\n\\n\\n\\nAtlético Madrid</td>\n",
       "      <td>2014 ~ 2023</td>\n",
       "      <td>GK</td>\n",
       "      <td>188cm</td>\n",
       "      <td>87kg</td>\n",
       "      <td>Right</td>\n",
       "      <td>91</td>\n",
       "      <td>GK</td>\n",
       "      <td>Jul 16, 2014</td>\n",
       "      <td>NaN</td>\n",
       "      <td>€120M</td>\n",
       "      <td>€125K</td>\n",
       "      <td>€159.4M</td>\n",
       "      <td>95</td>\n",
       "      <td>13</td>\n",
       "      <td>11</td>\n",
       "      <td>15</td>\n",
       "      <td>43</td>\n",
       "      <td>13</td>\n",
       "      <td>109</td>\n",
       "      <td>12</td>\n",
       "      <td>13</td>\n",
       "      <td>14</td>\n",
       "      <td>40</td>\n",
       "      <td>30</td>\n",
       "      <td>307</td>\n",
       "      <td>43</td>\n",
       "      <td>60</td>\n",
       "      <td>67</td>\n",
       "      <td>88</td>\n",
       "      <td>49</td>\n",
       "      <td>268</td>\n",
       "      <td>59</td>\n",
       "      <td>78</td>\n",
       "      <td>41</td>\n",
       "      <td>78</td>\n",
       "      <td>12</td>\n",
       "      <td>140</td>\n",
       "      <td>34</td>\n",
       "      <td>19</td>\n",
       "      <td>11</td>\n",
       "      <td>65</td>\n",
       "      <td>11</td>\n",
       "      <td>68</td>\n",
       "      <td>57</td>\n",
       "      <td>27</td>\n",
       "      <td>12</td>\n",
       "      <td>18</td>\n",
       "      <td>437</td>\n",
       "      <td>87</td>\n",
       "      <td>92</td>\n",
       "      <td>78</td>\n",
       "      <td>90</td>\n",
       "      <td>90</td>\n",
       "      <td>1413</td>\n",
       "      <td>489</td>\n",
       "      <td>3 ★</td>\n",
       "      <td>1★</td>\n",
       "      <td>Medium</td>\n",
       "      <td>Medium</td>\n",
       "      <td>3 ★</td>\n",
       "      <td>87</td>\n",
       "      <td>92</td>\n",
       "      <td>78</td>\n",
       "      <td>90</td>\n",
       "      <td>52</td>\n",
       "      <td>90</td>\n",
       "      <td>150</td>\n",
       "    </tr>\n",
       "    <tr>\n",
       "      <th>3</th>\n",
       "      <td>192985</td>\n",
       "      <td>K. De Bruyne</td>\n",
       "      <td>Kevin De Bruyne</td>\n",
       "      <td>https://cdn.sofifa.com/players/192/985/21_60.png</td>\n",
       "      <td>http://sofifa.com/player/192985/kevin-de-bruyn...</td>\n",
       "      <td>Belgium</td>\n",
       "      <td>29</td>\n",
       "      <td>91</td>\n",
       "      <td>91</td>\n",
       "      <td>\\n\\n\\n\\nManchester City</td>\n",
       "      <td>2015 ~ 2023</td>\n",
       "      <td>CAM, CM</td>\n",
       "      <td>181cm</td>\n",
       "      <td>70kg</td>\n",
       "      <td>Right</td>\n",
       "      <td>91</td>\n",
       "      <td>CAM</td>\n",
       "      <td>Aug 30, 2015</td>\n",
       "      <td>NaN</td>\n",
       "      <td>€129M</td>\n",
       "      <td>€370K</td>\n",
       "      <td>€161M</td>\n",
       "      <td>407</td>\n",
       "      <td>94</td>\n",
       "      <td>82</td>\n",
       "      <td>55</td>\n",
       "      <td>94</td>\n",
       "      <td>82</td>\n",
       "      <td>441</td>\n",
       "      <td>88</td>\n",
       "      <td>85</td>\n",
       "      <td>83</td>\n",
       "      <td>93</td>\n",
       "      <td>92</td>\n",
       "      <td>398</td>\n",
       "      <td>77</td>\n",
       "      <td>76</td>\n",
       "      <td>78</td>\n",
       "      <td>91</td>\n",
       "      <td>76</td>\n",
       "      <td>408</td>\n",
       "      <td>91</td>\n",
       "      <td>63</td>\n",
       "      <td>89</td>\n",
       "      <td>74</td>\n",
       "      <td>91</td>\n",
       "      <td>408</td>\n",
       "      <td>76</td>\n",
       "      <td>66</td>\n",
       "      <td>88</td>\n",
       "      <td>94</td>\n",
       "      <td>84</td>\n",
       "      <td>91</td>\n",
       "      <td>186</td>\n",
       "      <td>68</td>\n",
       "      <td>65</td>\n",
       "      <td>53</td>\n",
       "      <td>56</td>\n",
       "      <td>15</td>\n",
       "      <td>13</td>\n",
       "      <td>5</td>\n",
       "      <td>10</td>\n",
       "      <td>13</td>\n",
       "      <td>2304</td>\n",
       "      <td>485</td>\n",
       "      <td>5 ★</td>\n",
       "      <td>4★</td>\n",
       "      <td>High</td>\n",
       "      <td>High</td>\n",
       "      <td>4 ★</td>\n",
       "      <td>76</td>\n",
       "      <td>86</td>\n",
       "      <td>93</td>\n",
       "      <td>88</td>\n",
       "      <td>64</td>\n",
       "      <td>78</td>\n",
       "      <td>207</td>\n",
       "    </tr>\n",
       "    <tr>\n",
       "      <th>4</th>\n",
       "      <td>190871</td>\n",
       "      <td>Neymar Jr</td>\n",
       "      <td>Neymar da Silva Santos Jr.</td>\n",
       "      <td>https://cdn.sofifa.com/players/190/871/21_60.png</td>\n",
       "      <td>http://sofifa.com/player/190871/neymar-da-silv...</td>\n",
       "      <td>Brazil</td>\n",
       "      <td>28</td>\n",
       "      <td>91</td>\n",
       "      <td>91</td>\n",
       "      <td>\\n\\n\\n\\nParis Saint-Germain</td>\n",
       "      <td>2017 ~ 2022</td>\n",
       "      <td>LW, CAM</td>\n",
       "      <td>175cm</td>\n",
       "      <td>68kg</td>\n",
       "      <td>Right</td>\n",
       "      <td>91</td>\n",
       "      <td>LW</td>\n",
       "      <td>Aug 3, 2017</td>\n",
       "      <td>NaN</td>\n",
       "      <td>€132M</td>\n",
       "      <td>€270K</td>\n",
       "      <td>€166.5M</td>\n",
       "      <td>408</td>\n",
       "      <td>85</td>\n",
       "      <td>87</td>\n",
       "      <td>62</td>\n",
       "      <td>87</td>\n",
       "      <td>87</td>\n",
       "      <td>448</td>\n",
       "      <td>95</td>\n",
       "      <td>88</td>\n",
       "      <td>89</td>\n",
       "      <td>81</td>\n",
       "      <td>95</td>\n",
       "      <td>453</td>\n",
       "      <td>94</td>\n",
       "      <td>89</td>\n",
       "      <td>96</td>\n",
       "      <td>91</td>\n",
       "      <td>83</td>\n",
       "      <td>357</td>\n",
       "      <td>80</td>\n",
       "      <td>62</td>\n",
       "      <td>81</td>\n",
       "      <td>50</td>\n",
       "      <td>84</td>\n",
       "      <td>356</td>\n",
       "      <td>51</td>\n",
       "      <td>36</td>\n",
       "      <td>87</td>\n",
       "      <td>90</td>\n",
       "      <td>92</td>\n",
       "      <td>93</td>\n",
       "      <td>94</td>\n",
       "      <td>35</td>\n",
       "      <td>30</td>\n",
       "      <td>29</td>\n",
       "      <td>59</td>\n",
       "      <td>9</td>\n",
       "      <td>9</td>\n",
       "      <td>15</td>\n",
       "      <td>15</td>\n",
       "      <td>11</td>\n",
       "      <td>2175</td>\n",
       "      <td>451</td>\n",
       "      <td>5 ★</td>\n",
       "      <td>5★</td>\n",
       "      <td>High</td>\n",
       "      <td>Medium</td>\n",
       "      <td>5 ★</td>\n",
       "      <td>91</td>\n",
       "      <td>85</td>\n",
       "      <td>86</td>\n",
       "      <td>94</td>\n",
       "      <td>36</td>\n",
       "      <td>59</td>\n",
       "      <td>595</td>\n",
       "    </tr>\n",
       "  </tbody>\n",
       "</table>\n",
       "</div>"
      ],
      "text/plain": [
       "       ID               Name                      LongName  \\\n",
       "0  158023           L. Messi                  Lionel Messi   \n",
       "1   20801  Cristiano Ronaldo  C. Ronaldo dos Santos Aveiro   \n",
       "2  200389           J. Oblak                     Jan Oblak   \n",
       "3  192985       K. De Bruyne               Kevin De Bruyne   \n",
       "4  190871          Neymar Jr    Neymar da Silva Santos Jr.   \n",
       "\n",
       "                                           photoUrl  \\\n",
       "0  https://cdn.sofifa.com/players/158/023/21_60.png   \n",
       "1  https://cdn.sofifa.com/players/020/801/21_60.png   \n",
       "2  https://cdn.sofifa.com/players/200/389/21_60.png   \n",
       "3  https://cdn.sofifa.com/players/192/985/21_60.png   \n",
       "4  https://cdn.sofifa.com/players/190/871/21_60.png   \n",
       "\n",
       "                                           playerUrl Nationality  Age  ↓OVA  \\\n",
       "0  http://sofifa.com/player/158023/lionel-messi/2...   Argentina   33    93   \n",
       "1  http://sofifa.com/player/20801/c-ronaldo-dos-s...    Portugal   35    92   \n",
       "2  http://sofifa.com/player/200389/jan-oblak/210006/    Slovenia   27    91   \n",
       "3  http://sofifa.com/player/192985/kevin-de-bruyn...     Belgium   29    91   \n",
       "4  http://sofifa.com/player/190871/neymar-da-silv...      Brazil   28    91   \n",
       "\n",
       "   POT                         Club     Contract   Positions Height Weight  \\\n",
       "0   93         \\n\\n\\n\\nFC Barcelona  2004 ~ 2021  RW, ST, CF  170cm   72kg   \n",
       "1   92             \\n\\n\\n\\nJuventus  2018 ~ 2022      ST, LW  187cm   83kg   \n",
       "2   93      \\n\\n\\n\\nAtlético Madrid  2014 ~ 2023          GK  188cm   87kg   \n",
       "3   91      \\n\\n\\n\\nManchester City  2015 ~ 2023     CAM, CM  181cm   70kg   \n",
       "4   91  \\n\\n\\n\\nParis Saint-Germain  2017 ~ 2022     LW, CAM  175cm   68kg   \n",
       "\n",
       "  Preferred Foot  BOV Best Position        Joined Loan Date End    Value  \\\n",
       "0           Left   93            RW   Jul 1, 2004           NaN  €103.5M   \n",
       "1          Right   92            ST  Jul 10, 2018           NaN     €63M   \n",
       "2          Right   91            GK  Jul 16, 2014           NaN    €120M   \n",
       "3          Right   91           CAM  Aug 30, 2015           NaN    €129M   \n",
       "4          Right   91            LW   Aug 3, 2017           NaN    €132M   \n",
       "\n",
       "    Wage Release Clause  Attacking  Crossing  Finishing  Heading Accuracy  \\\n",
       "0  €560K        €138.4M        429        85         95                70   \n",
       "1  €220K         €75.9M        437        84         95                90   \n",
       "2  €125K        €159.4M         95        13         11                15   \n",
       "3  €370K          €161M        407        94         82                55   \n",
       "4  €270K        €166.5M        408        85         87                62   \n",
       "\n",
       "   Short Passing  Volleys  Skill  Dribbling  Curve  FK Accuracy  Long Passing  \\\n",
       "0             91       88    470         96     93           94            91   \n",
       "1             82       86    414         88     81           76            77   \n",
       "2             43       13    109         12     13           14            40   \n",
       "3             94       82    441         88     85           83            93   \n",
       "4             87       87    448         95     88           89            81   \n",
       "\n",
       "   Ball Control  Movement  Acceleration  Sprint Speed  Agility  Reactions  \\\n",
       "0            96       451            91            80       91         94   \n",
       "1            92       431            87            91       87         95   \n",
       "2            30       307            43            60       67         88   \n",
       "3            92       398            77            76       78         91   \n",
       "4            95       453            94            89       96         91   \n",
       "\n",
       "   Balance  Power  Shot Power  Jumping  Stamina  Strength  Long Shots  \\\n",
       "0       95    389          86       68       72        69          94   \n",
       "1       71    444          94       95       84        78          93   \n",
       "2       49    268          59       78       41        78          12   \n",
       "3       76    408          91       63       89        74          91   \n",
       "4       83    357          80       62       81        50          84   \n",
       "\n",
       "   Mentality  Aggression  Interceptions  Positioning  Vision  Penalties  \\\n",
       "0        347          44             40           93      95         75   \n",
       "1        353          63             29           95      82         84   \n",
       "2        140          34             19           11      65         11   \n",
       "3        408          76             66           88      94         84   \n",
       "4        356          51             36           87      90         92   \n",
       "\n",
       "   Composure  Defending  Marking  Standing Tackle  Sliding Tackle  \\\n",
       "0         96         91       32               35              24   \n",
       "1         95         84       28               32              24   \n",
       "2         68         57       27               12              18   \n",
       "3         91        186       68               65              53   \n",
       "4         93         94       35               30              29   \n",
       "\n",
       "   Goalkeeping  GK Diving  GK Handling  GK Kicking  GK Positioning  \\\n",
       "0           54          6           11          15              14   \n",
       "1           58          7           11          15              14   \n",
       "2          437         87           92          78              90   \n",
       "3           56         15           13           5              10   \n",
       "4           59          9            9          15              15   \n",
       "\n",
       "   GK Reflexes  Total Stats  Base Stats  W/F  SM     A/W     D/W   IR  PAC  \\\n",
       "0            8         2231         466  4 ★  4★  Medium     Low  5 ★   85   \n",
       "1           11         2221         464  4 ★  5★    High     Low  5 ★   89   \n",
       "2           90         1413         489  3 ★  1★  Medium  Medium  3 ★   87   \n",
       "3           13         2304         485  5 ★  4★    High    High  4 ★   76   \n",
       "4           11         2175         451  5 ★  5★    High  Medium  5 ★   91   \n",
       "\n",
       "   SHO  PAS  DRI  DEF  PHY Hits  \n",
       "0   92   91   95   38   65  771  \n",
       "1   93   81   89   35   77  562  \n",
       "2   92   78   90   52   90  150  \n",
       "3   86   93   88   64   78  207  \n",
       "4   85   86   94   36   59  595  "
      ]
     },
     "execution_count": 5,
     "metadata": {},
     "output_type": "execute_result"
    }
   ],
   "source": [
    "df.head()"
   ]
  },
  {
   "cell_type": "markdown",
   "id": "0de08018",
   "metadata": {},
   "source": [
    "## 1. Data Cleaning and Data Preparation."
   ]
  },
  {
   "cell_type": "markdown",
   "id": "daa54b27",
   "metadata": {},
   "source": [
    " #### 1.1 Data Transformation\n",
    "    Handling \"Height\" and \"Weight\" columns"
   ]
  },
  {
   "cell_type": "code",
   "execution_count": 6,
   "id": "e656f80c",
   "metadata": {
    "scrolled": true
   },
   "outputs": [
    {
     "data": {
      "text/plain": [
       "array(['170cm', '187cm', '188cm', '181cm', '175cm', '184cm', '191cm',\n",
       "       '178cm', '193cm', '185cm', '199cm', '173cm', '168cm', '176cm',\n",
       "       '177cm', '183cm', '180cm', '189cm', '179cm', '195cm', '172cm',\n",
       "       '182cm', '186cm', '192cm', '165cm', '194cm', '167cm', '196cm',\n",
       "       '163cm', '190cm', '174cm', '169cm', '171cm', '197cm', '200cm',\n",
       "       '166cm', '6\\'2\"', '164cm', '198cm', '6\\'3\"', '6\\'5\"', '5\\'11\"',\n",
       "       '6\\'4\"', '6\\'1\"', '6\\'0\"', '5\\'10\"', '5\\'9\"', '5\\'6\"', '5\\'7\"',\n",
       "       '5\\'4\"', '201cm', '158cm', '162cm', '161cm', '160cm', '203cm',\n",
       "       '157cm', '156cm', '202cm', '159cm', '206cm', '155cm'], dtype=object)"
      ]
     },
     "execution_count": 6,
     "metadata": {},
     "output_type": "execute_result"
    }
   ],
   "source": [
    "# Height\n",
    "\n",
    "df.Height.unique()"
   ]
  },
  {
   "cell_type": "code",
   "execution_count": 7,
   "id": "99c5d721",
   "metadata": {},
   "outputs": [],
   "source": [
    "# I need to create a function that deals with two types of strings. One type is 'xxxcm,' and the other is 'x'xx.'\""
   ]
  },
  {
   "cell_type": "code",
   "execution_count": 8,
   "id": "213e034d",
   "metadata": {},
   "outputs": [],
   "source": [
    "def convert_height_cm(x):\n",
    "    if 'cm' in x:\n",
    "        return int(x.replace('cm', ''))\n",
    "    else:\n",
    "        height = x.split(\"'\")\n",
    "        return round(int(height[0])*30.48+int(height[1][:-1])*2.54)"
   ]
  },
  {
   "cell_type": "code",
   "execution_count": 9,
   "id": "a160bf0d",
   "metadata": {},
   "outputs": [],
   "source": [
    "df['Height'] = df['Height'].apply(convert_height_cm)"
   ]
  },
  {
   "cell_type": "code",
   "execution_count": 10,
   "id": "b1af56a5",
   "metadata": {},
   "outputs": [
    {
     "data": {
      "text/plain": [
       "dtype('int64')"
      ]
     },
     "execution_count": 10,
     "metadata": {},
     "output_type": "execute_result"
    }
   ],
   "source": [
    "df.Height.dtypes"
   ]
  },
  {
   "cell_type": "code",
   "execution_count": 11,
   "id": "3069be83",
   "metadata": {},
   "outputs": [
    {
     "name": "stdout",
     "output_type": "stream",
     "text": [
      "183\n"
     ]
    }
   ],
   "source": [
    "def conver_height_cm(x):\n",
    "    if 'cm' in x:\n",
    "        return int(x.replace('cm', ''))\n",
    "    else:\n",
    "        height = x.split(\"'\")\n",
    "        return round(int(height[0])*30.48+int(height[1][:-1])*2.54)\n",
    "    \n",
    "print(conver_height_cm(\"6'0\\\"\"))"
   ]
  },
  {
   "cell_type": "code",
   "execution_count": 12,
   "id": "95889094",
   "metadata": {},
   "outputs": [],
   "source": [
    "# Weight"
   ]
  },
  {
   "cell_type": "code",
   "execution_count": 13,
   "id": "add5669d",
   "metadata": {
    "scrolled": true
   },
   "outputs": [
    {
     "data": {
      "text/plain": [
       "array(['72kg', '83kg', '87kg', '70kg', '68kg', '80kg', '71kg', '91kg',\n",
       "       '73kg', '85kg', '92kg', '69kg', '84kg', '96kg', '81kg', '82kg',\n",
       "       '75kg', '86kg', '89kg', '74kg', '76kg', '64kg', '78kg', '90kg',\n",
       "       '66kg', '60kg', '94kg', '79kg', '67kg', '65kg', '59kg', '61kg',\n",
       "       '93kg', '88kg', '97kg', '77kg', '62kg', '63kg', '95kg', '100kg',\n",
       "       '58kg', '183lbs', '179lbs', '172lbs', '196lbs', '176lbs', '185lbs',\n",
       "       '170lbs', '203lbs', '168lbs', '161lbs', '146lbs', '130lbs',\n",
       "       '190lbs', '174lbs', '148lbs', '165lbs', '159lbs', '192lbs',\n",
       "       '181lbs', '139lbs', '154lbs', '157lbs', '163lbs', '98kg', '103kg',\n",
       "       '99kg', '102kg', '56kg', '101kg', '57kg', '55kg', '104kg', '107kg',\n",
       "       '110kg', '53kg', '50kg', '54kg', '52kg'], dtype=object)"
      ]
     },
     "execution_count": 13,
     "metadata": {},
     "output_type": "execute_result"
    }
   ],
   "source": [
    "df.Weight.unique()"
   ]
  },
  {
   "cell_type": "code",
   "execution_count": 14,
   "id": "6898a1c7",
   "metadata": {},
   "outputs": [],
   "source": [
    "def weight_to_kg(x):\n",
    "    if \"kg\" in x:\n",
    "        return int(x[:-2])\n",
    "    else:\n",
    "        return round(int(x[:-3])*0.45359237)\n",
    "    \n",
    "df[\"Weight\"] = df.Weight.apply(weight_to_kg)"
   ]
  },
  {
   "cell_type": "code",
   "execution_count": 15,
   "id": "5f4f857a",
   "metadata": {},
   "outputs": [
    {
     "data": {
      "text/plain": [
       "dtype('int64')"
      ]
     },
     "execution_count": 15,
     "metadata": {},
     "output_type": "execute_result"
    }
   ],
   "source": [
    "df.Weight.dtype"
   ]
  },
  {
   "cell_type": "code",
   "execution_count": 16,
   "id": "f34338d3",
   "metadata": {
    "scrolled": true
   },
   "outputs": [
    {
     "data": {
      "text/plain": [
       "Index(['ID', 'Name', 'LongName', 'photoUrl', 'playerUrl', 'Nationality', 'Age',\n",
       "       '↓OVA', 'POT', 'Club', 'Contract', 'Positions', 'Height_cm',\n",
       "       'Weight_kg', 'Preferred Foot', 'BOV', 'Best Position', 'Joined',\n",
       "       'Loan Date End', 'Value', 'Wage', 'Release Clause', 'Attacking',\n",
       "       'Crossing', 'Finishing', 'Heading Accuracy', 'Short Passing', 'Volleys',\n",
       "       'Skill', 'Dribbling', 'Curve', 'FK Accuracy', 'Long Passing',\n",
       "       'Ball Control', 'Movement', 'Acceleration', 'Sprint Speed', 'Agility',\n",
       "       'Reactions', 'Balance', 'Power', 'Shot Power', 'Jumping', 'Stamina',\n",
       "       'Strength', 'Long Shots', 'Mentality', 'Aggression', 'Interceptions',\n",
       "       'Positioning', 'Vision', 'Penalties', 'Composure', 'Defending',\n",
       "       'Marking', 'Standing Tackle', 'Sliding Tackle', 'Goalkeeping',\n",
       "       'GK Diving', 'GK Handling', 'GK Kicking', 'GK Positioning',\n",
       "       'GK Reflexes', 'Total Stats', 'Base Stats', 'W/F', 'SM', 'A/W', 'D/W',\n",
       "       'IR', 'PAC', 'SHO', 'PAS', 'DRI', 'DEF', 'PHY', 'Hits'],\n",
       "      dtype='object')"
      ]
     },
     "execution_count": 16,
     "metadata": {},
     "output_type": "execute_result"
    }
   ],
   "source": [
    "df.rename(columns = {'Height':'Height_cm', 'Weight':'Weight_kg'}, inplace = True)\n",
    "df.columns"
   ]
  },
  {
   "cell_type": "markdown",
   "id": "ba69fc3e",
   "metadata": {},
   "source": [
    "#### 1.2 Split Data into Separate Columns\n",
    "    Separate the joined column into year, month, and day columns"
   ]
  },
  {
   "cell_type": "code",
   "execution_count": 17,
   "id": "6143e8f6",
   "metadata": {},
   "outputs": [],
   "source": [
    "df['Joined'] = pd.to_datetime(df.Joined)"
   ]
  },
  {
   "cell_type": "code",
   "execution_count": 18,
   "id": "3515cf60",
   "metadata": {},
   "outputs": [],
   "source": [
    "df['Joined_Year'] = df.Joined.dt.year\n",
    "df['Joined_month'] = df.Joined.dt.month\n",
    "df['Joined_day'] = df.Joined.dt.day"
   ]
  },
  {
   "cell_type": "markdown",
   "id": "646e2da1",
   "metadata": {},
   "source": [
    "#### 1.3 Formatting columns\n",
    "    Transform the value, wage and releae clause columns into columns to integers"
   ]
  },
  {
   "cell_type": "code",
   "execution_count": 19,
   "id": "a863cda5",
   "metadata": {},
   "outputs": [],
   "source": [
    "# Check the amount in the 'Value', 'Wage', 'Release Clause' that if it doesn't contain string 'K' or 'M'"
   ]
  },
  {
   "cell_type": "code",
   "execution_count": 20,
   "id": "02698f5a",
   "metadata": {},
   "outputs": [
    {
     "data": {
      "text/plain": [
       "€0    248\n",
       "Name: Value, dtype: int64"
      ]
     },
     "execution_count": 20,
     "metadata": {},
     "output_type": "execute_result"
    }
   ],
   "source": [
    "df[~df.Value.str.contains('K|M')].Value.value_counts()"
   ]
  },
  {
   "cell_type": "code",
   "execution_count": 21,
   "id": "3a4185fa",
   "metadata": {
    "scrolled": true
   },
   "outputs": [
    {
     "data": {
      "text/plain": [
       "array(['€0', '€900', '€850', '€500', '€700', '€950', '€750', '€650',\n",
       "       '€600', '€800', '€550'], dtype=object)"
      ]
     },
     "execution_count": 21,
     "metadata": {},
     "output_type": "execute_result"
    }
   ],
   "source": [
    "df[~df.Wage.str.contains('K|M')].Wage.unique()"
   ]
  },
  {
   "cell_type": "code",
   "execution_count": 22,
   "id": "971a5a77",
   "metadata": {
    "scrolled": false
   },
   "outputs": [
    {
     "data": {
      "text/plain": [
       "array(['€0'], dtype=object)"
      ]
     },
     "execution_count": 22,
     "metadata": {},
     "output_type": "execute_result"
    }
   ],
   "source": [
    "df[~df['Release Clause'].str.contains('K|M')]['Release Clause'].unique()"
   ]
  },
  {
   "cell_type": "code",
   "execution_count": 23,
   "id": "c06893a3",
   "metadata": {},
   "outputs": [],
   "source": [
    "#Create a function to formate the amount in the columns\n",
    "\n",
    "def format_the_amount(x):\n",
    "    x = x.replace('€', '')\n",
    "    if 'M' in x:\n",
    "        return int(float(x[:-1])*1000*1000)\n",
    "    elif 'K' in x:\n",
    "        return int(float(x[:-1])*1000)\n",
    "    else:\n",
    "        return round(float(x))\n",
    "    "
   ]
  },
  {
   "cell_type": "code",
   "execution_count": 24,
   "id": "b26632d5",
   "metadata": {
    "scrolled": true
   },
   "outputs": [],
   "source": [
    "df.loc[:,['Value', 'Wage', 'Release Clause']] = df[['Value', 'Wage', 'Release Clause']].applymap(format_the_amount)"
   ]
  },
  {
   "cell_type": "code",
   "execution_count": 25,
   "id": "f857cc27",
   "metadata": {
    "scrolled": true
   },
   "outputs": [
    {
     "data": {
      "text/html": [
       "<div>\n",
       "<style scoped>\n",
       "    .dataframe tbody tr th:only-of-type {\n",
       "        vertical-align: middle;\n",
       "    }\n",
       "\n",
       "    .dataframe tbody tr th {\n",
       "        vertical-align: top;\n",
       "    }\n",
       "\n",
       "    .dataframe thead th {\n",
       "        text-align: right;\n",
       "    }\n",
       "</style>\n",
       "<table border=\"1\" class=\"dataframe\">\n",
       "  <thead>\n",
       "    <tr style=\"text-align: right;\">\n",
       "      <th></th>\n",
       "      <th>Value</th>\n",
       "      <th>Wage</th>\n",
       "      <th>Release Clause</th>\n",
       "    </tr>\n",
       "  </thead>\n",
       "  <tbody>\n",
       "    <tr>\n",
       "      <th>0</th>\n",
       "      <td>103500000</td>\n",
       "      <td>560000</td>\n",
       "      <td>138400000</td>\n",
       "    </tr>\n",
       "    <tr>\n",
       "      <th>1</th>\n",
       "      <td>63000000</td>\n",
       "      <td>220000</td>\n",
       "      <td>75900000</td>\n",
       "    </tr>\n",
       "    <tr>\n",
       "      <th>2</th>\n",
       "      <td>120000000</td>\n",
       "      <td>125000</td>\n",
       "      <td>159400000</td>\n",
       "    </tr>\n",
       "    <tr>\n",
       "      <th>3</th>\n",
       "      <td>129000000</td>\n",
       "      <td>370000</td>\n",
       "      <td>161000000</td>\n",
       "    </tr>\n",
       "    <tr>\n",
       "      <th>4</th>\n",
       "      <td>132000000</td>\n",
       "      <td>270000</td>\n",
       "      <td>166500000</td>\n",
       "    </tr>\n",
       "  </tbody>\n",
       "</table>\n",
       "</div>"
      ],
      "text/plain": [
       "       Value    Wage  Release Clause\n",
       "0  103500000  560000       138400000\n",
       "1   63000000  220000        75900000\n",
       "2  120000000  125000       159400000\n",
       "3  129000000  370000       161000000\n",
       "4  132000000  270000       166500000"
      ]
     },
     "execution_count": 25,
     "metadata": {},
     "output_type": "execute_result"
    }
   ],
   "source": [
    "df[['Value', 'Wage', 'Release Clause']].head()"
   ]
  },
  {
   "cell_type": "code",
   "execution_count": 26,
   "id": "18c30874",
   "metadata": {},
   "outputs": [],
   "source": [
    "df['Value'] = df['Value'].astype(int)\n",
    "df['Wage'] = df['Wage'].astype(int)\n",
    "df['Release Clause'] = df['Release Clause'].astype(int)"
   ]
  },
  {
   "cell_type": "markdown",
   "id": "286ce32d",
   "metadata": {},
   "source": [
    "#### 1.4 Strip columns with 'star' characters\n",
    "    --then transform to numeric value"
   ]
  },
  {
   "cell_type": "code",
   "execution_count": 27,
   "id": "448be327",
   "metadata": {},
   "outputs": [
    {
     "data": {
      "text/plain": [
       "array(['5 ★', '3 ★', '4 ★', '2 ★', '1 ★'], dtype=object)"
      ]
     },
     "execution_count": 27,
     "metadata": {},
     "output_type": "execute_result"
    }
   ],
   "source": [
    "df.IR.unique()"
   ]
  },
  {
   "cell_type": "code",
   "execution_count": 28,
   "id": "c65fbddc",
   "metadata": {
    "scrolled": true
   },
   "outputs": [
    {
     "data": {
      "text/plain": [
       "array(['4★', '5★', '1★', '2★', '3★'], dtype=object)"
      ]
     },
     "execution_count": 28,
     "metadata": {},
     "output_type": "execute_result"
    }
   ],
   "source": [
    "df.SM.unique()"
   ]
  },
  {
   "cell_type": "code",
   "execution_count": 29,
   "id": "02694f8a",
   "metadata": {},
   "outputs": [
    {
     "data": {
      "text/plain": [
       "array(['4 ★', '3 ★', '5 ★', '2 ★', '1 ★'], dtype=object)"
      ]
     },
     "execution_count": 29,
     "metadata": {},
     "output_type": "execute_result"
    }
   ],
   "source": [
    "df['W/F'].unique()"
   ]
  },
  {
   "cell_type": "code",
   "execution_count": 30,
   "id": "43e2611d",
   "metadata": {},
   "outputs": [],
   "source": [
    "# Remove star and whitespace\n",
    "df['IR'] = df.IR.str.strip('★').str.strip().astype(int)\n",
    "df['SM'] = df.SM.str.strip('★').str.strip().astype(int)\n",
    "df['W/F'] = df['W/F'].str.strip('★').str.strip().astype(int)"
   ]
  },
  {
   "cell_type": "code",
   "execution_count": 31,
   "id": "2d0f0e43",
   "metadata": {
    "scrolled": true
   },
   "outputs": [
    {
     "data": {
      "text/plain": [
       "0    5\n",
       "1    5\n",
       "2    3\n",
       "3    4\n",
       "4    5\n",
       "Name: IR, dtype: int32"
      ]
     },
     "execution_count": 31,
     "metadata": {},
     "output_type": "execute_result"
    }
   ],
   "source": [
    "df.IR.head()"
   ]
  },
  {
   "cell_type": "markdown",
   "id": "887e3385",
   "metadata": {},
   "source": [
    "#### 1.5 Cleaning the unnecessary  characters\n",
    "    Remove newline characters (\\n) from all columns that have them"
   ]
  },
  {
   "cell_type": "code",
   "execution_count": 32,
   "id": "0806c5e0",
   "metadata": {},
   "outputs": [
    {
     "data": {
      "text/plain": [
       "Index(['Club'], dtype='object')"
      ]
     },
     "execution_count": 32,
     "metadata": {},
     "output_type": "execute_result"
    }
   ],
   "source": [
    "# Check which column that contians newline characters.\n",
    "df.columns[df.astype('str').apply(lambda col: col.str.contains('\\\\n').any())]"
   ]
  },
  {
   "cell_type": "code",
   "execution_count": 33,
   "id": "086c0ad1",
   "metadata": {},
   "outputs": [],
   "source": [
    "df['Club'] = df.Club.str.replace('\\n', '', regex=False)"
   ]
  },
  {
   "cell_type": "code",
   "execution_count": 34,
   "id": "b517f5b4",
   "metadata": {},
   "outputs": [
    {
     "data": {
      "text/plain": [
       "0       FC Barcelona\n",
       "1           Juventus\n",
       "2    Atlético Madrid\n",
       "Name: Club, dtype: object"
      ]
     },
     "execution_count": 34,
     "metadata": {},
     "output_type": "execute_result"
    }
   ],
   "source": [
    "df.Club.head(3)"
   ]
  },
  {
   "cell_type": "markdown",
   "id": "3e278775",
   "metadata": {},
   "source": [
    "#### 1.6 Players who have played  more than 10 years in the club."
   ]
  },
  {
   "cell_type": "code",
   "execution_count": 35,
   "id": "99c70dbc",
   "metadata": {},
   "outputs": [],
   "source": [
    "df['Membership_Duration'] = 2023-df.Joined_Year"
   ]
  },
  {
   "cell_type": "code",
   "execution_count": 36,
   "id": "048112df",
   "metadata": {
    "scrolled": true
   },
   "outputs": [
    {
     "data": {
      "text/plain": [
       "array(['Lionel Messi', 'Manuel Neuer', 'Karim Benzema',\n",
       "       'Sergio Ramos García', 'Sergio Agüero', 'Harry Kane',\n",
       "       'Samir Handanovič', 'Giorgio Chiellini', 'Sergio Busquets Burgos',\n",
       "       'Luka Modrić', 'Hugo Lloris', 'Thomas Müller',\n",
       "       'David De Gea Quintana', 'Raphaël Varane', 'Marco Verratti',\n",
       "       'Jamie Vardy', 'Gerard Piqué Bernabeu', 'Jordi Alba Ramos',\n",
       "       'Jordan Henderson', 'Lorenzo Insigne', 'Jorge Resurrección',\n",
       "       'Marco Reus', 'David Alaba', 'César Azpilicueta Tanco',\n",
       "       'Kasper Schmeichel', 'Thomas Strakosha', 'José Luís Gayà Peña',\n",
       "       'Edin Višća', 'Anthony Lopes', 'Iker Muniain Goñi',\n",
       "       'Marcelo Vieira da Silva', 'Alphonse Areola',\n",
       "       'Mário Figueira Fernandes', 'Karim Bellarabi', 'Lars Bender',\n",
       "       'Fernando Muslera', 'Jérôme Boateng', 'Iñaki Williams Arthuer',\n",
       "       'Alessandro Florenzi', 'Javier Martínez Aginaga',\n",
       "       'Stéphane Ruffier', 'Segundo Mandíquez', 'Jack Grealish',\n",
       "       'Domenico Berardi', 'José Ignacio Fernández Iglesias',\n",
       "       'Mario Gaspar Pérez Martínez', 'André Gomes Magalhães Almeida',\n",
       "       'Łukasz Piszczek', 'Igor Akinfeev', 'José Luis Morales Nogales',\n",
       "       'Maximilian Arnold', 'Taras Stepanenko', 'James Ward-Prowse',\n",
       "       'Jaume Vicent Costa Jordá', 'Ben Mee', 'Vedran Ćorluka',\n",
       "       'Séamus Coleman', 'Danny Rose', 'Manuel Trigueros Muñoz',\n",
       "       'Lewis Dunk', 'Patrick Herrmann', 'Hugo Mallo Novegil',\n",
       "       'Oscar De Marcos Arana', 'Christian Günter',\n",
       "       'Guilherme Alvim Marinato', 'Ștefan Radu', 'Iago Herrerín Buisán',\n",
       "       'Senad Lulić', 'Victor Moses', 'Luis Montes', 'Ralf Fährmann',\n",
       "       'Timo Horn', 'Roger Martí Salvador', 'Jesse Lingard',\n",
       "       'Vitorino Hilton da Silva', 'Oier Sanjurjo Maté',\n",
       "       'Roberto Torres Morales', 'Giovanni Moreno', 'Kevin Berlaso',\n",
       "       'Jonas Hector', 'Marco Sportiello', 'Arijan Ademi', 'Joel Ward',\n",
       "       'Alan Dzagoev', 'Troy Deeney', 'Anton Miranchuk',\n",
       "       'Callum McGregor', 'Fabian Klos', 'Rubén Blanco Veiga',\n",
       "       'James Forrest', 'Adama Soumaoro', 'Theodor Gebre Selassie',\n",
       "       'Jhon Monsario', 'Alan Zamorado', 'Andriy Pyatov',\n",
       "       'Brandon Mechele', 'Romain Hamouma', 'Jorge Hernández',\n",
       "       'Jorrit Hendrix', 'Oğuzhan Özyakup', 'Paul Dummett',\n",
       "       'Pedro Vaquizo', 'Oscar Wendt', 'Alexander Aguilmera',\n",
       "       'Diego Chará', 'Tony Jantschke', 'Jesús Dueñas', 'Mattia Zaccagni',\n",
       "       'Georgiy Schennikov', 'Jardel Nivaldo Vieira', 'Lautaro Giannetti',\n",
       "       'Andreas Ulmer', 'Hugo Ayala', 'Iván Pillud', 'Steve Cook',\n",
       "       'Scott Brown', 'Phil Jones', 'Mahmut Tekdemir', 'Winston Reid',\n",
       "       'Francisco Pizzini', 'Francesco Magnanelli', 'Jack Stephens',\n",
       "       'Mark Noble', 'Peter Pekarík', 'José de Jesús Corona',\n",
       "       'Manuel García Sánchez', 'Ömer Ali Şahiner', 'Denys Garmash',\n",
       "       'Radim Řezník', 'Daniel Congré', 'Themba Zwane', 'Sergiy Kryvtsov',\n",
       "       'Marcel Schmelzer', 'Gernot Trauner', 'Andrea Ranocchia',\n",
       "       'David Limberský', 'Vitaliy Buyalskyi', 'Salem Al Dawsari',\n",
       "       'Yasser Al Shahrani', 'Sergio Álvarez Conde',\n",
       "       'Juan Guilherme Nunes Jesus', 'Alan Patrick Lourenço',\n",
       "       'Víctor Sabanter', 'Leonardo Ponzio', 'Junmin Hao',\n",
       "       'Itumeleng Khune', 'Paul Aguilar', 'Viktor Vasin',\n",
       "       'Sebastián Viera', 'Danilo Cataldi', 'Anton Shunin', 'Wes Morgan',\n",
       "       'Yu Kobayashi', 'Jean Carlos Veria', 'Vincent Manceau',\n",
       "       'Stefan Bell', 'Jin Hyeon Kim', 'Marcelo Benítez',\n",
       "       'Kevin Vázquez Comesaña', 'Renaud Ripart', 'Darragh Lenihan',\n",
       "       'Matt Hedges', 'Mário Jorge Malico Paulino', 'Taulant Xhaka',\n",
       "       'Lukáš Hejda', 'Ziya Erdal', 'Julio César Domínguez',\n",
       "       'Jorge Torres Nilo', 'Tore Reginiussen', 'Maxime Poundjé',\n",
       "       'Jesús Sánchez', 'Georgiy Bushchan', 'Eirik Hestad', 'Joe Ralls',\n",
       "       'Sammy Bossut', 'Ryota Oshima', 'Anthony Alfárnez',\n",
       "       'Yusuke Maruhashi', 'Nicolas Höfler', 'Ricardo José Monteiro',\n",
       "       'Yunding Cao', 'Yo Han Go', 'Masato Morishige',\n",
       "       'José Antonio Rodríguez', 'Willard Katsande', 'Ilya Kutepov',\n",
       "       'Cristian Lucchetti', 'Per Karlsson', 'Kevin Long',\n",
       "       'Cristopher Toselli', 'Kirill Nababkin', 'Bruno Ferreira Bonfim',\n",
       "       'Linpeng Zhang', 'Lucas Domingues Piazón', 'Alexander Walke',\n",
       "       'Marcus Bettinelli', 'Rhyan Grant', 'Alexander Tettey',\n",
       "       'Martin Männel', 'Marc Schnatterer', 'Miguel Angel Torrén',\n",
       "       'Unai García Lugea', 'Issiaga Sylla', 'Enrique Sancero',\n",
       "       'Matt Besler', 'Lewis Baker', 'Kwang Suk Kim', 'Miao Tang',\n",
       "       'Zheng Zheng', 'Shenchao Wang', 'Alexander Grünwald',\n",
       "       'Lorenzo Venuti', 'Graham Zusi', 'Ulrik Saltnes',\n",
       "       'Kyohei Noborizato', 'Jesús Manuel Santana Abreu',\n",
       "       'Carlos Pita González', 'Ryan Shawcross', 'Necip Uysal',\n",
       "       'Jessy Moulin', 'Antonio Ríos', 'Shoma Doi', 'Jan Morávek',\n",
       "       'Carlos Carmona Bonet', 'Ki Hun Yeom', 'Robin Himmelmann',\n",
       "       'Chul Soon Choi', 'Lucas Licht', 'Artem Rebrov', 'Adam Bodzek',\n",
       "       'Alexandre Bonnet', 'Alberto Jiménez Benítez', 'Răzvan Pleșca',\n",
       "       'Nawaf Al Abed', 'José Borgueray', 'Eric Mathoho', 'Xiang Ji',\n",
       "       'Ángel Morenzo', 'Jamal Blackman', 'Fernando Seoane Antelo',\n",
       "       'Fahad Al Muwallad', 'Dong Gook Lee', 'Ronwen Williams',\n",
       "       'Kwang Min Ko', 'Daniel Castellano Betancor', 'Zander Clark',\n",
       "       'Binbin Liu', 'Diego Fagundez', 'Rhayner Santos Nascimento',\n",
       "       'Alfonso Blanco', 'Jordens Peters', 'Ángel Zaldívar',\n",
       "       'Luis Quintana', 'Marco Schönbächler', 'Wayne Routledge',\n",
       "       'Bowen Huang', 'Miguel Ponce', 'Sergio Aquino', 'Bernard Parker',\n",
       "       'Andrew Considine', 'Kyle Beckerman', 'Kengo Nakamura',\n",
       "       'Fernando Barrientos', 'Yosuke Kashiwagi', 'Juan Carlos Arce',\n",
       "       'Juan Mejídez', 'José Luis Chunga', 'Toshihiro Aoyama',\n",
       "       'Christopher Buchtmann', 'Jorge Breitez', 'Zhi Zheng',\n",
       "       'Marcel Novick', 'Jakob Jantscher', 'Vincent Demarconnay',\n",
       "       'Javier Castellano Betancor', 'Christoph Riegler', 'Vasco Regini',\n",
       "       'Jakob Ahlmann', 'Hiroki Miyazawa', 'Jean-Pascal Fontaine',\n",
       "       'Shu Kurata', 'Niklas Lomb', 'Aaron Meijers', 'Chris Wondolowski',\n",
       "       'Yanick Brecher', 'Sebastian Nachreiner', 'Lucian Filip',\n",
       "       'Xiaoting Feng', 'Liam Palmer', 'Steffen Hagen', 'Ismail Ahmed',\n",
       "       'Omar Hawsawi', 'Lucas Hägg Johansson', 'Ignacio González',\n",
       "       'Lynden Gooch', 'Rory McKenzie', 'Fredrik Haugen',\n",
       "       'Mathías Guerreyro', 'Yasushi Endo', 'Chris Shields',\n",
       "       'Miguel Jiménez', 'Huikang Cai', 'Paul Huntington', 'Happy Jele',\n",
       "       'Yasser Al Mosailem', 'Edward Zenteno', 'Cheng Piao',\n",
       "       'Kevin Fickentscher', 'Hiroki Fujiharu', 'Takuma Arano',\n",
       "       'Mike Wunderlich', 'Ryo Takeuchi', 'Bram van Polen',\n",
       "       'Mohammed Al Fatil', 'Kristoffer Barmen', 'Mario Sonnleitner',\n",
       "       'Benjamin Pranter', 'Hedgardo Marín', 'Mark van der Maarel',\n",
       "       'Luke Chambers', 'Lars Vilsvik', 'Mohammed Abdulrahman',\n",
       "       'Matty James', 'James McKeown', 'Chi Zhang', 'Alberto Acosta',\n",
       "       'Fawaz Al Qarni', 'Rafał Boguski', 'Boniek García',\n",
       "       'Cristian Vega', 'Kensuke Sato', 'Shea Salinas', 'Martin Kobras',\n",
       "       'Andreas Leitner', 'Marcel Ziegl', 'Adam Frączczak',\n",
       "       'Russell Teibert', 'Stian Rode Gregersen', 'Dimitri Mohamed',\n",
       "       'Xinghan Wu', 'Per Frick', 'Yukitoshi Ito', 'Tomoya Ugajin',\n",
       "       'Murray Davidson', 'Paul Hanlon', 'Kgotso Moleko', 'Keijiro Ogawa',\n",
       "       'Jonathan Sabbatini', 'Ryan Meara', 'Sang Hun Yu',\n",
       "       'Andreas Eines Hopmark', 'Shingo Tomita', 'Leigh Broxham',\n",
       "       'Lass Bangoura', 'Yun Zhou', 'Karl Larson', 'Robert Zwinkels',\n",
       "       'Thomas Castella', 'Jack Hingert', 'Dean Lewington', 'Oliver Hein',\n",
       "       'Daniel Morales', 'Wenjun Lü', 'Dimitri Boudaud', 'Hazaa Al Hazaa',\n",
       "       'Tong Wang', 'Hitoshi Sogahata', 'Thomas Reifeltshammer',\n",
       "       'Yuelei Cheng', 'Konrad Forenc', 'Mohanad Salem', 'Philipp Netzer',\n",
       "       'Sang Gi Min', 'Lewis Stevenson', 'Facundo Martínez',\n",
       "       'Pierre Bardy', 'Marwan Mohsen', 'Sam Long',\n",
       "       'Abdulrahman Al Ghamdi', 'Jakub Szmatuła', 'Luc Kassi',\n",
       "       'Davy Frick', 'Sami Al Khaibari', 'Yuki Abe', 'Scott Caldwell',\n",
       "       'Matt Bloomfield', 'Lin Lu', 'Won Jae Park', 'Óscar Bagüí',\n",
       "       'Gennaro Acampora', 'Łukasz Wolsztyński', 'Nikita Contini',\n",
       "       'Fredrik Carlsen', 'Jiakang Hui', 'Mohammed Fayez', 'Yosuke Kawai',\n",
       "       'Hidekazu Otani', 'Reum Yeo', 'Diego Wayar', 'Tom Eastman',\n",
       "       'Lasse Fosgaard', 'Jiajun Bai', 'Louis Fenton', 'Ben Kantarovski',\n",
       "       'Yohei Toyoda', 'Tobias Karlsson', 'Espen Børufsen',\n",
       "       'Hideki Ishige', 'Alessandro Deiola', 'Mariusz Pawelec',\n",
       "       'Tom Lapslie', 'Mohammed Al Fehaid', 'Cristian Cherchez',\n",
       "       'Won Sik Kim', 'Soon Min Hwang', 'Michael Gardyne',\n",
       "       'John Mountney', 'Yusuke Kobayashi', 'Sang Min Yang',\n",
       "       'Thomas Rotter', 'Kentaro Seki', 'Robin Brüseke',\n",
       "       'Florian Toplitsch', 'Toni Lindenhahn', 'Mohammed Ahmed',\n",
       "       'Matías Oyola', 'Yuefeng Bai', 'Cornel Dinu', 'Iván Rodríguez',\n",
       "       'Jong Sung Lee', 'Takuya Masuda', 'Matías Caseras',\n",
       "       'Harrison Dunk', 'Jung Nam Hong', 'David Zibung',\n",
       "       'Mattias Moström', 'Abduwal Ablet', 'Emin Nouri', 'Joel Pinto',\n",
       "       'Chris Kane', 'Pengfei Shan', 'Vamouti Diomande', 'Matt Jay',\n",
       "       'Sen Hou', 'Kazushige Kirihata', 'Shunsuke Ando',\n",
       "       'Abdullah Al Saleh', 'Ian Bermingham', 'Marco Bleve',\n",
       "       'Mark McNulty', 'Nico Hecker', 'Qipeng Yang', 'Tim Siedschlag',\n",
       "       'Bo Sun', 'Abdulaziz Al Aryani', 'Matthias Haeder',\n",
       "       'Kazuyoshi Miura', 'Bartłomiej Sielewski', 'Soner Dikmen',\n",
       "       'John Popelard', 'Mohammed Al Wakid', 'Jérémy Huysman', 'Yi Luo',\n",
       "       'Kyriakos Stamatopoulos', 'Hanlin Yao'], dtype=object)"
      ]
     },
     "execution_count": 36,
     "metadata": {},
     "output_type": "execute_result"
    }
   ],
   "source": [
    "df[df['Membership_Duration']>10].LongName.unique()"
   ]
  },
  {
   "cell_type": "markdown",
   "id": "f73f2e56",
   "metadata": {},
   "source": [
    "#### 1.7 Create a Contract_length column    "
   ]
  },
  {
   "cell_type": "code",
   "execution_count": 37,
   "id": "080a5f8e",
   "metadata": {},
   "outputs": [
    {
     "data": {
      "text/plain": [
       "array(['2004 ~ 2021', '2018 ~ 2022', '2014 ~ 2023', '2015 ~ 2023',\n",
       "       '2017 ~ 2022', '2017 ~ 2023', '2018 ~ 2024', '2014 ~ 2022',\n",
       "       '2018 ~ 2023', '2016 ~ 2023', '2013 ~ 2023', '2011 ~ 2023',\n",
       "       '2009 ~ 2022', '2005 ~ 2021', '2011 ~ 2021', '2015 ~ 2022',\n",
       "       '2017 ~ 2024', '2010 ~ 2024', '2012 ~ 2021', '2019 ~ 2024',\n",
       "       '2015 ~ 2024', '2017 ~ 2025', '2020 ~ 2025', '2019 ~ 2023',\n",
       "       '2008 ~ 2023', '2015 ~ 2021', '2020 ~ 2022', '2012 ~ 2022',\n",
       "       '2016 ~ 2025', '2013 ~ 2022', '2011 ~ 2022', '2012 ~ 2024',\n",
       "       '2016 ~ 2021', '2012 ~ 2023', '2008 ~ 2022', '2019 ~ 2022',\n",
       "       '2017 ~ 2021', '2013 ~ 2024', '2020 ~ 2024', '2010 ~ 2022',\n",
       "       '2020 ~ 2021', '2011 ~ 2024', '2020 ~ 2023', '2014 ~ 2024',\n",
       "       '2013 ~ 2026', '2016 ~ 2022', '2010 ~ 2021', '2013 ~ 2021',\n",
       "       '2019 ~ 2025', '2018 ~ 2025', '2016 ~ 2024', '2018 ~ 2021',\n",
       "       '2009 ~ 2024', '2007 ~ 2022', 'Jun 30, 2021 On Loan',\n",
       "       '2009 ~ 2021', '2019 ~ 2021', '2019 ~ 2026', 'Free', '2012 ~ 2028',\n",
       "       '2010 ~ 2023', '2014 ~ 2021', '2015 ~ 2025', '2014 ~ 2026',\n",
       "       '2012 ~ 2025', '2017 ~ 2020', '2002 ~ 2022', '2020 ~ 2027',\n",
       "       '2013 ~ 2025', 'Dec 31, 2020 On Loan', '2019 ~ 2020',\n",
       "       '2011 ~ 2025', '2016 ~ 2020', '2007 ~ 2021', '2020 ~ 2026',\n",
       "       '2010 ~ 2025', '2009 ~ 2023', '2008 ~ 2021', '2020 ~ 2020',\n",
       "       '2016 ~ 2026', 'Jan 30, 2021 On Loan', '2012 ~ 2020',\n",
       "       '2014 ~ 2025', 'Jun 30, 2022 On Loan', '2015 ~ 2020',\n",
       "       'May 31, 2021 On Loan', '2018 ~ 2020', '2014 ~ 2020',\n",
       "       '2013 ~ 2020', '2006 ~ 2024', 'Jul 5, 2021 On Loan',\n",
       "       'Dec 31, 2021 On Loan', '2004 ~ 2025', '2011 ~ 2020',\n",
       "       'Jul 1, 2021 On Loan', 'Jan 1, 2021 On Loan', '2006 ~ 2023',\n",
       "       'Aug 31, 2021 On Loan', '2006 ~ 2021', '2005 ~ 2023',\n",
       "       '2003 ~ 2020', '2009 ~ 2020', '2002 ~ 2020', '2005 ~ 2020',\n",
       "       '2005 ~ 2022', 'Jan 31, 2021 On Loan', '2010 ~ 2020',\n",
       "       'Dec 30, 2021 On Loan', '2008 ~ 2020', '2007 ~ 2020',\n",
       "       '2003 ~ 2021', 'Jun 23, 2021 On Loan', 'Jan 3, 2021 On Loan',\n",
       "       'Nov 27, 2021 On Loan', '2002 ~ 2021', 'Jan 17, 2021 On Loan',\n",
       "       'Jun 30, 2023 On Loan', '1998 ~ 2021', '2003 ~ 2022',\n",
       "       '2007 ~ 2023', 'Jul 31, 2021 On Loan', 'Nov 22, 2020 On Loan',\n",
       "       'May 31, 2022 On Loan', '2006 ~ 2020', 'Dec 30, 2020 On Loan',\n",
       "       '2007 ~ 2025', 'Jan 4, 2021 On Loan', 'Nov 30, 2020 On Loan',\n",
       "       '2004 ~ 2020', '2009 ~ 2025', 'Aug 1, 2021 On Loan'], dtype=object)"
      ]
     },
     "execution_count": 37,
     "metadata": {},
     "output_type": "execute_result"
    }
   ],
   "source": [
    "df.Contract.unique()"
   ]
  },
  {
   "cell_type": "code",
   "execution_count": 38,
   "id": "794cbfbb",
   "metadata": {},
   "outputs": [],
   "source": [
    "# There 3 types of contracts. 'Free', 'On Loan' and 'Regular contract'\n",
    "# Trying to build a function to calculate them separately."
   ]
  },
  {
   "cell_type": "code",
   "execution_count": 39,
   "id": "c0eab6cf",
   "metadata": {},
   "outputs": [],
   "source": [
    "def calculate_contract_length(years):\n",
    "    \n",
    "    # Dealing with 'regular contract like '2007 ~ 2022'\n",
    "    if '~' in years:\n",
    "        start_year, end_year = map(int, years.split(' ~ '))\n",
    "        return end_year - start_year\n",
    "    \n",
    "    # Dealing with 'On Loan' contract like 'Nov 22, 2020 On Loan'\n",
    "    elif 'Loan' in years:\n",
    "        years = years.replace('On Loan', '')\n",
    "        differ_date = pd.to_datetime(years) - pd.to_datetime('2021-01-01')\n",
    "        differ_date = differ_date.total_seconds() / pd.Timedelta(days =365).total_seconds()\n",
    "        return round(differ_date,1) if differ_date > 0 else 0\n",
    "    \n",
    "    # Dealing with 'Free' contract\n",
    "    else:\n",
    "        return 0"
   ]
  },
  {
   "cell_type": "code",
   "execution_count": 40,
   "id": "bd013654",
   "metadata": {},
   "outputs": [],
   "source": [
    "df['Contract_length'] = df['Contract'].apply(calculate_contract_length)"
   ]
  },
  {
   "cell_type": "markdown",
   "id": "917255b8",
   "metadata": {},
   "source": [
    "## 2. Data exploring and answer guiding questions?\n",
    "#### 2.1 Which players are highly valuable but still underpaid (on low wages)?"
   ]
  },
  {
   "cell_type": "code",
   "execution_count": 41,
   "id": "6f3379a7",
   "metadata": {},
   "outputs": [
    {
     "data": {
      "text/html": [
       "<div>\n",
       "<style scoped>\n",
       "    .dataframe tbody tr th:only-of-type {\n",
       "        vertical-align: middle;\n",
       "    }\n",
       "\n",
       "    .dataframe tbody tr th {\n",
       "        vertical-align: top;\n",
       "    }\n",
       "\n",
       "    .dataframe thead th {\n",
       "        text-align: right;\n",
       "    }\n",
       "</style>\n",
       "<table border=\"1\" class=\"dataframe\">\n",
       "  <thead>\n",
       "    <tr style=\"text-align: right;\">\n",
       "      <th></th>\n",
       "      <th>Wage</th>\n",
       "      <th>Value</th>\n",
       "    </tr>\n",
       "  </thead>\n",
       "  <tbody>\n",
       "    <tr>\n",
       "      <th>Wage</th>\n",
       "      <td>1.00000</td>\n",
       "      <td>0.81487</td>\n",
       "    </tr>\n",
       "    <tr>\n",
       "      <th>Value</th>\n",
       "      <td>0.81487</td>\n",
       "      <td>1.00000</td>\n",
       "    </tr>\n",
       "  </tbody>\n",
       "</table>\n",
       "</div>"
      ],
      "text/plain": [
       "          Wage    Value\n",
       "Wage   1.00000  0.81487\n",
       "Value  0.81487  1.00000"
      ]
     },
     "execution_count": 41,
     "metadata": {},
     "output_type": "execute_result"
    }
   ],
   "source": [
    "df[['Wage','Value']].corr()"
   ]
  },
  {
   "cell_type": "code",
   "execution_count": 42,
   "id": "d67d0bcc",
   "metadata": {},
   "outputs": [],
   "source": [
    "# The association between Wage and Value is high. Let's use scatter plot to take a look of it."
   ]
  },
  {
   "cell_type": "code",
   "execution_count": 43,
   "id": "1ae2eeee",
   "metadata": {},
   "outputs": [
    {
     "data": {
      "image/png": "[encoded data removed]",
      "text/plain": [
       "<Figure size 432x288 with 1 Axes>"
      ]
     },
     "metadata": {
      "needs_background": "light"
     },
     "output_type": "display_data"
    }
   ],
   "source": [
    "sns.regplot(x='Wage', \n",
    "            y='Value', \n",
    "            data=df,\n",
    "            scatter_kws={'edgecolor' : 'black', 'linewidth' : 1, 'alpha':0.5, 'color' : 'orange'},\n",
    "            line_kws = {'color':'blue'}\n",
    "           )\n",
    "plt.show()"
   ]
  },
  {
   "cell_type": "code",
   "execution_count": 44,
   "id": "aa66db1f",
   "metadata": {},
   "outputs": [
    {
     "name": "stdout",
     "output_type": "stream",
     "text": [
      "2                                Jan Oblak\n",
      "7                    Alisson Ramses Becker\n",
      "8                            Kylian Mbappé\n",
      "19                            N'Golo Kanté\n",
      "20                          Joshua Kimmich\n",
      "21                            Paulo Dybala\n",
      "22               Ederson Santana de Moraes\n",
      "25                       Kalidou Koulibaly\n",
      "29                            Jadon Sancho\n",
      "30                  Trent Alexander-Arnold\n",
      "32                        Andrew Robertson\n",
      "34           Bruno Miguel Borges Fernandes\n",
      "35                  Fábio Henrique Tavares\n",
      "36                           Heung Min Son\n",
      "37     Roberto Firmino Barbosa de Oliveira\n",
      "47                           Ciro Immobile\n",
      "52                          Marco Verratti\n",
      "53                              Paul Pogba\n",
      "65                             Kai Havertz\n",
      "66                        Matthijs de Ligt\n",
      "68                         Marcus Rashford\n",
      "69                    Gianluigi Donnarumma\n",
      "71                              Leroy Sané\n",
      "80                         Frenkie de Jong\n",
      "104                       Lautaro Martínez\n",
      "105                         Erling Haaland\n",
      "Name: LongName, dtype: object\n"
     ]
    }
   ],
   "source": [
    "print(df.query('Wage < 200000 and Value >75000000').LongName)"
   ]
  },
  {
   "cell_type": "markdown",
   "id": "6d712e0f",
   "metadata": {},
   "source": [
    "#### 2.2 At what age do players tend to be highly valuable but still underpaid?"
   ]
  },
  {
   "cell_type": "code",
   "execution_count": 45,
   "id": "e8917be7",
   "metadata": {
    "scrolled": true
   },
   "outputs": [
    {
     "data": {
      "text/plain": [
       "21    962\n",
       "23    959\n",
       "22    935\n",
       "24    871\n",
       "20    845\n",
       "25    670\n",
       "19    635\n",
       "26    600\n",
       "18    551\n",
       "27    547\n",
       "Name: Age, dtype: int64"
      ]
     },
     "metadata": {},
     "output_type": "display_data"
    },
    {
     "data": {
      "image/png": "[encoded data removed]",
      "text/plain": [
       "<Figure size 432x288 with 1 Axes>"
      ]
     },
     "metadata": {
      "needs_background": "light"
     },
     "output_type": "display_data"
    }
   ],
   "source": [
    "from scipy import stats\n",
    "s, b, r, p, stderr = stats.linregress(df.Wage, df.Value)\n",
    "y_predited = s * df.Wage + b\n",
    "\n",
    "display(df[df.Value > y_predited].Age.value_counts().head(10))\n",
    "\n",
    "df[df.Value > y_predited].Age.plot(kind='hist')\n",
    "\n",
    "plt.title(\"Age Distribution of Underpaid Players\")\n",
    "plt.xlabel('Age')\n",
    "plt.xticks(np.arange(15,40,2))\n",
    "\n",
    "plt.show()"
   ]
  },
  {
   "cell_type": "code",
   "execution_count": 46,
   "id": "fac3477a",
   "metadata": {},
   "outputs": [],
   "source": [
    "# It indicated that players aged 21 to 23 represent the most underpaid group."
   ]
  },
  {
   "cell_type": "markdown",
   "id": "cf67fda3",
   "metadata": {},
   "source": [
    "#### 2.3 What is the wage budget that can turn a club into a potential contender even for a championship?"
   ]
  },
  {
   "cell_type": "markdown",
   "id": "7a1ec46c",
   "metadata": {
    "scrolled": true
   },
   "source": [
    "    Let's examine club wage expenses and rank the clubs based on the total OVA of their players."
   ]
  },
  {
   "cell_type": "code",
   "execution_count": 47,
   "id": "20dd0514",
   "metadata": {},
   "outputs": [],
   "source": [
    "data_23 = df.groupby('Club')[['Wage','↓OVA','Age']].agg({'Wage':'sum','↓OVA':'sum','Age':'mean'})\n",
    "data_23 = data_23.reset_index().sort_values('↓OVA', ascending=False)[1:]"
   ]
  },
  {
   "cell_type": "code",
   "execution_count": 48,
   "id": "01c3a7df",
   "metadata": {},
   "outputs": [
    {
     "data": {
      "image/png": "[encoded data removed]",
      "text/plain": [
       "<Figure size 418.375x360 with 1 Axes>"
      ]
     },
     "metadata": {
      "needs_background": "light"
     },
     "output_type": "display_data"
    }
   ],
   "source": [
    "sns.relplot(x='↓OVA', y = 'Wage', data=data_23, kind='scatter',palette='crest', hue='Age', alpha=0.75)\n",
    "\n",
    "plt.title('Club Wage Expense and Total OVA of a Team')\n",
    "\n",
    "plt.show()"
   ]
  },
  {
   "cell_type": "markdown",
   "id": "c04f0802",
   "metadata": {},
   "source": [
    "        When a team's OVA reaches a range of approximately 2200 to 2400, increasing the wage expense does not result in a significant additional OVA boost for the team.\n",
    "        Let's remove the outliers and see what the scatterplot of the majority of clubs looks like.\n"
   ]
  },
  {
   "cell_type": "code",
   "execution_count": 49,
   "id": "c5ad2648",
   "metadata": {},
   "outputs": [
    {
     "data": {
      "image/png": "[encoded data removed]",
      "text/plain": [
       "<Figure size 418.375x360 with 1 Axes>"
      ]
     },
     "metadata": {
      "needs_background": "light"
     },
     "output_type": "display_data"
    }
   ],
   "source": [
    "# Here I will use IQR interquartile range method to remove outliers.\n",
    "\n",
    "q1, q3 = np.percentile(data_23.Wage,[25,75])\n",
    "\n",
    "iqr_value = q3 - q1\n",
    "lower_boundary = q1 - iqr_value * 1.5\n",
    "upper_boundary = q3 + iqr_value * 1.5\n",
    "\n",
    "data_23 = data_23.query('Wage >= @lower_boundary and Wage <= @upper_boundary')\n",
    "\n",
    "\n",
    "sns.relplot(x='↓OVA', y = 'Wage', data=data_23, kind='scatter',palette='crest', hue='Age', alpha=0.75)\n",
    "plt.title('Club Wage Expense and Total OVA of a Team')\n",
    "\n",
    "plt.show()"
   ]
  },
  {
   "cell_type": "markdown",
   "id": "a3432248",
   "metadata": {
    "scrolled": false
   },
   "source": [
    "        It's possible to build a relatively strong and competitive young team with only 1/10 to 1/4 of the budget compared  \n",
    "        to those that spend millions on wages."
   ]
  },
  {
   "cell_type": "markdown",
   "id": "5c3fd96c",
   "metadata": {},
   "source": [
    "#### 2.4 For those competitive young team in 2.3, what position they focus on."
   ]
  },
  {
   "cell_type": "code",
   "execution_count": 50,
   "id": "7d7ead98",
   "metadata": {},
   "outputs": [],
   "source": [
    "data_24 = df[df.Club.isin(data_23[data_23['↓OVA'] > 2200].Club.values)]"
   ]
  },
  {
   "cell_type": "code",
   "execution_count": 51,
   "id": "0ce619a9",
   "metadata": {
    "scrolled": true
   },
   "outputs": [
    {
     "data": {
      "image/png": "[encoded data removed]",
      "text/plain": [
       "<Figure size 432x288 with 2 Axes>"
      ]
     },
     "metadata": {
      "needs_background": "light"
     },
     "output_type": "display_data"
    }
   ],
   "source": [
    "# Obtain the maximum OVA for each position within each club.\n",
    "data_241 = data_24.groupby(['Club','Best Position'])['↓OVA'].max().unstack()\n",
    "data_241\n",
    "sns.heatmap(data_241, annot=True, cmap='viridis_r')\n",
    "\n",
    "plt.title('Max OVA of each position Within a Club')\n",
    "plt.show()"
   ]
  },
  {
   "cell_type": "markdown",
   "id": "35c0f8b0",
   "metadata": {},
   "source": [
    "7 out 16 clubs have a good GK(GOALKEEPER) with OVA >= 80. \n",
    "Majority of clubs would like the center positions (CB, CDM, CM, CAM)  OVA higher that left side or right side positions.\n",
    "3 of clubs have a really ST (STRIKER).\n",
    "\n",
    "The heatmap indicated that most clubs would like to play defence and look for oppuntiy to attack the opposnent when they play defense successfuly."
   ]
  },
  {
   "cell_type": "markdown",
   "id": "90e0be06",
   "metadata": {},
   "source": [
    "#### 2.5 Which countries should club managers look to for potential talent to develop?\n",
    "\n",
    "If the manager looking for the starting players. From the 2.4 heatmap of max OVA positions, most of them are above 70.\n",
    "Let's set the condition of OVA between 70-84 and pull the data from all players."
   ]
  },
  {
   "cell_type": "code",
   "execution_count": 52,
   "id": "3c7d3087",
   "metadata": {
    "scrolled": true
   },
   "outputs": [],
   "source": [
    "data_25 = df[(df['↓OVA']>=70) & (df['↓OVA'] <=84)]"
   ]
  },
  {
   "cell_type": "code",
   "execution_count": 53,
   "id": "4aa7b55e",
   "metadata": {},
   "outputs": [],
   "source": [
    "data_25 = data_25.groupby(['Nationality','Best Position']).agg({'↓OVA':'mean', 'Age':['mean','count']})\n",
    "data_25.columns = ['_'.join(col) for col in data_25.columns.values]"
   ]
  },
  {
   "cell_type": "code",
   "execution_count": 54,
   "id": "5307d8da",
   "metadata": {
    "scrolled": true
   },
   "outputs": [],
   "source": [
    "data_25 = data_25.reset_index().sort_values(('Age_count'), ascending = False)\n",
    "data_25 = data_25.query('Age_count >18')\n",
    "data_25 = data_25.rename(columns={'Age_count':'players_count'})"
   ]
  },
  {
   "cell_type": "code",
   "execution_count": 55,
   "id": "cc96bfa8",
   "metadata": {},
   "outputs": [
    {
     "data": {
      "text/html": [
       "<div>\n",
       "<style scoped>\n",
       "    .dataframe tbody tr th:only-of-type {\n",
       "        vertical-align: middle;\n",
       "    }\n",
       "\n",
       "    .dataframe tbody tr th {\n",
       "        vertical-align: top;\n",
       "    }\n",
       "\n",
       "    .dataframe thead th {\n",
       "        text-align: right;\n",
       "    }\n",
       "</style>\n",
       "<table border=\"1\" class=\"dataframe\">\n",
       "  <thead>\n",
       "    <tr style=\"text-align: right;\">\n",
       "      <th></th>\n",
       "      <th>Nationality</th>\n",
       "      <th>Best Position</th>\n",
       "      <th>↓OVA_mean</th>\n",
       "      <th>Age_mean</th>\n",
       "      <th>players_count</th>\n",
       "    </tr>\n",
       "  </thead>\n",
       "  <tbody>\n",
       "    <tr>\n",
       "      <th>92</th>\n",
       "      <td>Brazil</td>\n",
       "      <td>CB</td>\n",
       "      <td>73.972727</td>\n",
       "      <td>27.018182</td>\n",
       "      <td>110</td>\n",
       "    </tr>\n",
       "    <tr>\n",
       "      <th>20</th>\n",
       "      <td>Argentina</td>\n",
       "      <td>CB</td>\n",
       "      <td>72.922078</td>\n",
       "      <td>29.350649</td>\n",
       "      <td>77</td>\n",
       "    </tr>\n",
       "    <tr>\n",
       "      <th>288</th>\n",
       "      <td>France</td>\n",
       "      <td>CB</td>\n",
       "      <td>74.528571</td>\n",
       "      <td>26.171429</td>\n",
       "      <td>70</td>\n",
       "    </tr>\n",
       "    <tr>\n",
       "      <th>91</th>\n",
       "      <td>Brazil</td>\n",
       "      <td>CAM</td>\n",
       "      <td>74.176471</td>\n",
       "      <td>25.073529</td>\n",
       "      <td>68</td>\n",
       "    </tr>\n",
       "    <tr>\n",
       "      <th>263</th>\n",
       "      <td>England</td>\n",
       "      <td>CB</td>\n",
       "      <td>73.671875</td>\n",
       "      <td>27.031250</td>\n",
       "      <td>64</td>\n",
       "    </tr>\n",
       "    <tr>\n",
       "      <th>744</th>\n",
       "      <td>Spain</td>\n",
       "      <td>CB</td>\n",
       "      <td>74.209677</td>\n",
       "      <td>28.274194</td>\n",
       "      <td>62</td>\n",
       "    </tr>\n",
       "    <tr>\n",
       "      <th>743</th>\n",
       "      <td>Spain</td>\n",
       "      <td>CAM</td>\n",
       "      <td>75.016393</td>\n",
       "      <td>25.475410</td>\n",
       "      <td>61</td>\n",
       "    </tr>\n",
       "    <tr>\n",
       "      <th>33</th>\n",
       "      <td>Argentina</td>\n",
       "      <td>ST</td>\n",
       "      <td>73.586207</td>\n",
       "      <td>28.913793</td>\n",
       "      <td>58</td>\n",
       "    </tr>\n",
       "    <tr>\n",
       "      <th>105</th>\n",
       "      <td>Brazil</td>\n",
       "      <td>ST</td>\n",
       "      <td>73.526316</td>\n",
       "      <td>26.842105</td>\n",
       "      <td>57</td>\n",
       "    </tr>\n",
       "    <tr>\n",
       "      <th>316</th>\n",
       "      <td>Germany</td>\n",
       "      <td>CB</td>\n",
       "      <td>74.145455</td>\n",
       "      <td>26.672727</td>\n",
       "      <td>55</td>\n",
       "    </tr>\n",
       "    <tr>\n",
       "      <th>93</th>\n",
       "      <td>Brazil</td>\n",
       "      <td>CDM</td>\n",
       "      <td>74.648148</td>\n",
       "      <td>26.851852</td>\n",
       "      <td>54</td>\n",
       "    </tr>\n",
       "    <tr>\n",
       "      <th>757</th>\n",
       "      <td>Spain</td>\n",
       "      <td>ST</td>\n",
       "      <td>75.326923</td>\n",
       "      <td>28.096154</td>\n",
       "      <td>52</td>\n",
       "    </tr>\n",
       "    <tr>\n",
       "      <th>19</th>\n",
       "      <td>Argentina</td>\n",
       "      <td>CAM</td>\n",
       "      <td>74.078431</td>\n",
       "      <td>27.980392</td>\n",
       "      <td>51</td>\n",
       "    </tr>\n",
       "    <tr>\n",
       "      <th>748</th>\n",
       "      <td>Spain</td>\n",
       "      <td>GK</td>\n",
       "      <td>75.500000</td>\n",
       "      <td>30.020833</td>\n",
       "      <td>48</td>\n",
       "    </tr>\n",
       "    <tr>\n",
       "      <th>301</th>\n",
       "      <td>France</td>\n",
       "      <td>ST</td>\n",
       "      <td>74.187500</td>\n",
       "      <td>27.166667</td>\n",
       "      <td>48</td>\n",
       "    </tr>\n",
       "    <tr>\n",
       "      <th>753</th>\n",
       "      <td>Spain</td>\n",
       "      <td>RB</td>\n",
       "      <td>74.521739</td>\n",
       "      <td>27.652174</td>\n",
       "      <td>46</td>\n",
       "    </tr>\n",
       "    <tr>\n",
       "      <th>97</th>\n",
       "      <td>Brazil</td>\n",
       "      <td>LB</td>\n",
       "      <td>74.772727</td>\n",
       "      <td>26.113636</td>\n",
       "      <td>44</td>\n",
       "    </tr>\n",
       "    <tr>\n",
       "      <th>96</th>\n",
       "      <td>Brazil</td>\n",
       "      <td>GK</td>\n",
       "      <td>73.674419</td>\n",
       "      <td>28.418605</td>\n",
       "      <td>43</td>\n",
       "    </tr>\n",
       "    <tr>\n",
       "      <th>101</th>\n",
       "      <td>Brazil</td>\n",
       "      <td>RB</td>\n",
       "      <td>74.250000</td>\n",
       "      <td>26.925000</td>\n",
       "      <td>40</td>\n",
       "    </tr>\n",
       "    <tr>\n",
       "      <th>745</th>\n",
       "      <td>Spain</td>\n",
       "      <td>CDM</td>\n",
       "      <td>73.875000</td>\n",
       "      <td>29.175000</td>\n",
       "      <td>40</td>\n",
       "    </tr>\n",
       "    <tr>\n",
       "      <th>319</th>\n",
       "      <td>Germany</td>\n",
       "      <td>GK</td>\n",
       "      <td>73.564103</td>\n",
       "      <td>28.435897</td>\n",
       "      <td>39</td>\n",
       "    </tr>\n",
       "    <tr>\n",
       "      <th>289</th>\n",
       "      <td>France</td>\n",
       "      <td>CDM</td>\n",
       "      <td>74.947368</td>\n",
       "      <td>27.657895</td>\n",
       "      <td>38</td>\n",
       "    </tr>\n",
       "    <tr>\n",
       "      <th>24</th>\n",
       "      <td>Argentina</td>\n",
       "      <td>GK</td>\n",
       "      <td>74.684211</td>\n",
       "      <td>31.421053</td>\n",
       "      <td>38</td>\n",
       "    </tr>\n",
       "    <tr>\n",
       "      <th>262</th>\n",
       "      <td>England</td>\n",
       "      <td>CAM</td>\n",
       "      <td>74.378378</td>\n",
       "      <td>24.081081</td>\n",
       "      <td>37</td>\n",
       "    </tr>\n",
       "    <tr>\n",
       "      <th>749</th>\n",
       "      <td>Spain</td>\n",
       "      <td>LB</td>\n",
       "      <td>75.305556</td>\n",
       "      <td>27.222222</td>\n",
       "      <td>36</td>\n",
       "    </tr>\n",
       "    <tr>\n",
       "      <th>21</th>\n",
       "      <td>Argentina</td>\n",
       "      <td>CDM</td>\n",
       "      <td>73.857143</td>\n",
       "      <td>29.200000</td>\n",
       "      <td>35</td>\n",
       "    </tr>\n",
       "    <tr>\n",
       "      <th>754</th>\n",
       "      <td>Spain</td>\n",
       "      <td>RM</td>\n",
       "      <td>73.914286</td>\n",
       "      <td>27.685714</td>\n",
       "      <td>35</td>\n",
       "    </tr>\n",
       "    <tr>\n",
       "      <th>287</th>\n",
       "      <td>France</td>\n",
       "      <td>CAM</td>\n",
       "      <td>75.485714</td>\n",
       "      <td>24.228571</td>\n",
       "      <td>35</td>\n",
       "    </tr>\n",
       "    <tr>\n",
       "      <th>400</th>\n",
       "      <td>Italy</td>\n",
       "      <td>CB</td>\n",
       "      <td>73.323529</td>\n",
       "      <td>28.029412</td>\n",
       "      <td>34</td>\n",
       "    </tr>\n",
       "    <tr>\n",
       "      <th>747</th>\n",
       "      <td>Spain</td>\n",
       "      <td>CM</td>\n",
       "      <td>75.794118</td>\n",
       "      <td>27.058824</td>\n",
       "      <td>34</td>\n",
       "    </tr>\n",
       "    <tr>\n",
       "      <th>527</th>\n",
       "      <td>Netherlands</td>\n",
       "      <td>CB</td>\n",
       "      <td>74.062500</td>\n",
       "      <td>26.500000</td>\n",
       "      <td>32</td>\n",
       "    </tr>\n",
       "    <tr>\n",
       "      <th>315</th>\n",
       "      <td>Germany</td>\n",
       "      <td>CAM</td>\n",
       "      <td>75.531250</td>\n",
       "      <td>27.500000</td>\n",
       "      <td>32</td>\n",
       "    </tr>\n",
       "    <tr>\n",
       "      <th>275</th>\n",
       "      <td>England</td>\n",
       "      <td>ST</td>\n",
       "      <td>73.900000</td>\n",
       "      <td>28.133333</td>\n",
       "      <td>30</td>\n",
       "    </tr>\n",
       "    <tr>\n",
       "      <th>292</th>\n",
       "      <td>France</td>\n",
       "      <td>GK</td>\n",
       "      <td>74.551724</td>\n",
       "      <td>29.000000</td>\n",
       "      <td>29</td>\n",
       "    </tr>\n",
       "    <tr>\n",
       "      <th>291</th>\n",
       "      <td>France</td>\n",
       "      <td>CM</td>\n",
       "      <td>74.793103</td>\n",
       "      <td>25.448276</td>\n",
       "      <td>29</td>\n",
       "    </tr>\n",
       "  </tbody>\n",
       "</table>\n",
       "</div>"
      ],
      "text/plain": [
       "     Nationality Best Position  ↓OVA_mean   Age_mean  players_count\n",
       "92        Brazil            CB  73.972727  27.018182            110\n",
       "20     Argentina            CB  72.922078  29.350649             77\n",
       "288       France            CB  74.528571  26.171429             70\n",
       "91        Brazil           CAM  74.176471  25.073529             68\n",
       "263      England            CB  73.671875  27.031250             64\n",
       "744        Spain            CB  74.209677  28.274194             62\n",
       "743        Spain           CAM  75.016393  25.475410             61\n",
       "33     Argentina            ST  73.586207  28.913793             58\n",
       "105       Brazil            ST  73.526316  26.842105             57\n",
       "316      Germany            CB  74.145455  26.672727             55\n",
       "93        Brazil           CDM  74.648148  26.851852             54\n",
       "757        Spain            ST  75.326923  28.096154             52\n",
       "19     Argentina           CAM  74.078431  27.980392             51\n",
       "748        Spain            GK  75.500000  30.020833             48\n",
       "301       France            ST  74.187500  27.166667             48\n",
       "753        Spain            RB  74.521739  27.652174             46\n",
       "97        Brazil            LB  74.772727  26.113636             44\n",
       "96        Brazil            GK  73.674419  28.418605             43\n",
       "101       Brazil            RB  74.250000  26.925000             40\n",
       "745        Spain           CDM  73.875000  29.175000             40\n",
       "319      Germany            GK  73.564103  28.435897             39\n",
       "289       France           CDM  74.947368  27.657895             38\n",
       "24     Argentina            GK  74.684211  31.421053             38\n",
       "262      England           CAM  74.378378  24.081081             37\n",
       "749        Spain            LB  75.305556  27.222222             36\n",
       "21     Argentina           CDM  73.857143  29.200000             35\n",
       "754        Spain            RM  73.914286  27.685714             35\n",
       "287       France           CAM  75.485714  24.228571             35\n",
       "400        Italy            CB  73.323529  28.029412             34\n",
       "747        Spain            CM  75.794118  27.058824             34\n",
       "527  Netherlands            CB  74.062500  26.500000             32\n",
       "315      Germany           CAM  75.531250  27.500000             32\n",
       "275      England            ST  73.900000  28.133333             30\n",
       "292       France            GK  74.551724  29.000000             29\n",
       "291       France            CM  74.793103  25.448276             29"
      ]
     },
     "execution_count": 55,
     "metadata": {},
     "output_type": "execute_result"
    }
   ],
   "source": [
    "data_25.head(35)"
   ]
  },
  {
   "cell_type": "code",
   "execution_count": 56,
   "id": "1f61d984",
   "metadata": {},
   "outputs": [
    {
     "data": {
      "image/png": "[encoded data removed]",
      "text/plain": [
       "<Figure size 864x576 with 1 Axes>"
      ]
     },
     "metadata": {
      "needs_background": "light"
     },
     "output_type": "display_data"
    }
   ],
   "source": [
    "plt.figure(figsize=(12, 8))\n",
    "\n",
    "sns.scatterplot(x='Best Position', y='↓OVA_mean', \n",
    "                    s=150,\n",
    "                    data=data_25, \n",
    "                    hue = 'Nationality', \n",
    "                    alpha = 0.5,\n",
    "                    edgecolor = 'black',\n",
    "                    style = 'Nationality'\n",
    "               )\n",
    "\n",
    "plt.legend(loc='upper right',bbox_to_anchor=(1.35, 1))\n",
    "\n",
    "plt.title(\"Countries vs positions and OVA\")\n",
    "\n",
    "plt.show()"
   ]
  },
  {
   "cell_type": "markdown",
   "id": "60cbfe2d",
   "metadata": {},
   "source": [
    "Summary of countries to scout talented players in various positions:  \n",
    "Spain excels in developing talented players for the ST, CDM, LB, CM, and RM positions.  \n",
    "France boasts the highest average OVA among its players for CB, CAM, CDM, and RB positions compared to the other 11 countries.  \n",
    "Argentina is also a favorable option for the RM position.  \n",
    "Germany has the largest number of players with the highest average OVA in CAM positions.  \n",
    "Brazil should be taken into account for LM and RM positions.  "
   ]
  },
  {
   "cell_type": "code",
   "execution_count": null,
   "id": "cdc63ceb",
   "metadata": {},
   "outputs": [],
   "source": []
  },
  {
   "cell_type": "code",
   "execution_count": null,
   "id": "d9f97909",
   "metadata": {},
   "outputs": [],
   "source": []
  }
 ],
 "metadata": {
  "kernelspec": {
   "display_name": "Python 3 (ipykernel)",
   "language": "python",
   "name": "python3"
  },
  "language_info": {
   "codemirror_mode": {
    "name": "ipython",
    "version": 3
   },
   "file_extension": ".py",
   "mimetype": "text/x-python",
   "name": "python",
   "nbconvert_exporter": "python",
   "pygments_lexer": "ipython3",
   "version": "3.9.12"
  }
 },
 "nbformat": 4,
 "nbformat_minor": 5
}
